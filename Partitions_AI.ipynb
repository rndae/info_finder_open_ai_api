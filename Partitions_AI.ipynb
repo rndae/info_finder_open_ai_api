{
 "cells": [
  {
   "cell_type": "code",
   "execution_count": 20,
   "id": "3b96eee9-cc53-4463-9de3-9a4b1a13e9b2",
   "metadata": {},
   "outputs": [],
   "source": [
    "def partition_contacts(contacts, max_chars=3500):\n",
    "    chunks = []\n",
    "    chunk = []\n",
    "    chunk_chars = 0\n",
    "\n",
    "    for contact in contacts:\n",
    "        contact_chars = len(contact)\n",
    "        \n",
    "        if chunk_chars + contact_chars > max_chars and chunk:\n",
    "            chunks.append(chunk)\n",
    "            chunk = []\n",
    "            chunk_chars = 0\n",
    "\n",
    "        chunk.append(contact)\n",
    "        chunk_chars += contact_chars\n",
    "\n",
    "    if chunk:\n",
    "        chunks.append(chunk)\n",
    "\n",
    "    return chunks\n"
   ]
  },
  {
   "cell_type": "code",
   "execution_count": 21,
   "id": "9d8ec6c1-20f1-49f9-b876-edaffdfc673d",
   "metadata": {},
   "outputs": [],
   "source": [
    "contacts = [\"Tabanero Cigars\tjmc@tabanerocigars.com\tCigar\", \"7-20-4 Vintage Cigars\tkurt@twinssmokeshop.com\tCigars\", \"ADV & McKay Cigars Co. S.R.L.\tnicole@adventuracigars.com\tCigars\", \"Aganorsa Leaf\tpcpalmer1@aol.com\tCigars\", \"AJ Fernandez\tmktg@ajfcigars.com\tCigars\", \"All Saints Cigars\tfrank@allsaintscigars.com\tCigars\", \"Altadis USA\tohyams@altadisusa(Did not work)\tCigars\", \"Apostate Cigars\tinfo@apostatecigars.com\tCigars\", \"APS Distributors\ttony@serinocigars.com\tCigars\", \"Aroma de Nicaragua\taromadenicaragua@gmail.com\tCigars\", \"Artista Cigars\tinfo@artistacigars.com(Did not work)\tCigars\", \"Ashton Distributors\tmmabe@ashtoncigar.com\tCigars\", \"B.A.M.F. Cigars\tbamfcigars@gmail.com\tCigars\", \"Best Cigars\tcigarboy12@aol.com\tCigars\", \"Big Sky Cigars\tbrandon.marsh@bigskycigar.com\tCigars\", \"Black Star Line Cigars\tblackstarlinecigars@gmail.com\tCigars\", \"Blackbird Cigar Corp.\tSales@blackbirdcigar.com\tCigars\", \"Blanco Cigar Co.\tkdebor@blancocigars.com\tCigars\", \"Blue Mountain Cigars\tsales@bluemountaincigars.com\tCigars\", \"C.L.E. Cigar Company\tmarcela@tabacalerasunidos.com\tCigars\", \"Caldwell Cigar Co./ La Barba/Lost and Found\tzach@downandback.com\tCigars\", \"Carolina Cigar Company\tlarryfromthecarolinacigarcompany.com(?)\tCigars\", \"CASA 1910\tsalesusa@casa1910.com\tCigars\", \"Casa Caraballo Cigars\tcaraballom60@yahoo.com\tCigars\", \"Casa De Suenos Cigars\tozhen@(L)lgcigars.com\tCigars\", \"Casadagli Cigars\tjeremy@casdaglicigars.com\tCigars\", \"Cavalier Premium Cigars\thello@cavalier-cigars.com\tCigars\", \"Celebrity Cigars\tjbyrd@celebritycigarscorp.com\tCigars\", \"Ceron Premium Cigars\tjceron@ceronpremiumcigars.com\tCigars\", \"Cigar In The Bottle, Inc\tforbiddenjohnny@aol.com\tCigars\", \"CigarBros USA Inc\tinfo@cigarbros.com\tCigars\", \"Compadres Cigars\tspencer@compadrescigars.com\tCigars\", \"Crowned Heads LLC\tadam@crownedheads.com\tCigars\", \"Crux Cigar Company\tjeff@cruxcigars.com\tCigars\", \"Cuba Aliados\tiblanken@olivacigar.com\tCigars\", \"Curivari Cigars int'l\tcucigars@gmail.com\tCigars\", \"Dapper Cigar Company\tian@dappercigars.com\tCigars\", \"DAV Cigars\tcontact@davcigars.com\tCigars\", \"DBL Cigars LLC\tfrancis@dblcigars.com\tCigars\", \"Debonaire/Indian Motorcycle Cigars\tphil.zanghi@durfortholdings.com\tCigars\", \"Definition Cigars\tjamond@definitioncigars.com\tCigars\", \"Don Doroteo Cigars\tjuan@dondoroteo.com\tCigars\", \"Dos Jotas Cigars SRL\tinfo@dosjotas.do\tCigars\", \"Drunk Chicken Cigars\tsales@DCCigars.com\tCigars\", \"Dunbarton Tobacco & Trust\tcsaka@dttcigars.com\tCigars\", \"Durfort Holdings\trmunoz@rsl.com.do\tCigars\", \"Epic Cigars\tinfo@zandergreg.com\tCigars\", \"Erez Cigars Corp\terezcigars@gmail.com\tCigars\", \"Espinosa Cigars\terik@espinosacigars.com\tCigars\", \"Esteban Carreras Cigar Co\tcraug@estebancarreras.com\tCigars\", \"Falto Cigars\tIfaltopr@hotmail.com\tCigars\", \"Ferio Tego LLC\tinfo@feriotego.com\tCigars\", \"Ferrera Cigars\tleticia@ferreracigarsusa.com\tCigars\", \"Foundation Cigar Company\tnickragua@foundationcigarcompany.com\tCigars\", \"Freud Cigars\ttorresgallardo@icloud.com\tCigars\", \"FYL Cigars\tgreg@fylcigars.com\tCigars\", \"Garo Cigars\t920-550-6060/garo@garocigars.com\tCigars\", \"GCigar\tCeo@gismycigars.com\tCigars\", \"German Engineered Cigars\toliver@germanengineeredcigars.com\tCigars\", \"Global Premium Cigars LLC\tenrique@GlobalPremiumCigars.com\tCigars\", \"Gran Habano Cigars\tgar@garcigars.com\tCigars\", \"Graycliff Cigar Company\tcigars@graycliff.com\tCigars\", \"GTO Cigars\torod@charter.net\tCigars\", \"Hiram and Solomon CIgars\tcigars@hiramandsolomoncigars.com\tCigars\", \"Hooten & Young Cigars\tinfo@howardgcigars.com\tCigars\", \"HVC\thvcity@hotmail.com\tCigars\", \"Iconic Leaf Cigar Company LLC\torder@iconicleafcigar.com\tCigars\", \"Illusione Cigars\tFumare@sbcglobal.net\tCigars\", \"Islamorada Cigar Company\tislamoradacigars@gmail.com\tCigars\", \"Jake Wyatt Cigar Co.\tinfo@jakewyattcigars.com\tCigars\", \"JM Tobacco Inc\tinfo@jmtobacco.com\tCigars\", \"Joya De Nicaragua\thola@joyacigars.com\tCigars\", \"JRE Tobacco Co\tvfeiroa@jretobacco.com\tCigars\", \"Kafie 1901 Cigars\tkafiecigars@gmail.com\tCigars\", \"Karen Berger Cigars\thccigarsdaytona@gmail.com\tCigars\", \"Konscious Cigars LLC\tkbrown@konsciouscigars.com\tCigars\", \"Kristoff Cigars\tWard@kristoff.com\tCigars\", \"La Aurora\te.mckenna@laaurora.com\tCigars\", \"La Faraona\tlafaraonacigars@gmail.com\tCigars\", \"La Flor Dominicana Cigars\tcarney@lfdcigars.com\tCigars\", \"La Galera Cigars\tmgordon@indianheadcigars.com\tCigars\", \"La Matilde Cigar Co\teseijas@matildecigars.com\tCigars\", \"sam@lapalinacigars.com/ info@lapalinacigar.com/ 202-588-0400\tsam@lapalinacigars.com\tCigars\", \"Lampert Cigars\tvlad@sommcigars.com\tCigars\", \"Linga Cigars\tjalmanzar@lingacigars.com\tCigars\", \"Lovely Cigars\tlovelycigars@gmail.com\tCigars\", \"Luciano Cigars\tpeter@lucianocigars.com\tCigars\", \"Luis Arias Cigar\tVivahabano@gmail.com\tCigars\", \"Martinez Hand Rolled Cigar Factory\tsales@martinezcigars.com\tCigars\", \"Miami Cigar & Company\tjwood@miamicigar.com\tCigars\", \"My Father Cigars Inc\tgmanager@myfathercigars.com\tCigars\", \"Nat Cicco\tinfo@zandergreg.com\tCigars\", \"Nomos Cigars\tinfo@nomoscigars.com\tCigars\", \"Ohana Nui Cigars\tohanacigarorders@gmail.com\tCigars\", \"OM CIGAR CO\to.m@omcigars.com\tCigars\", \"Oscar Valladares Tobacco & Co\toscar@oscartobacco.com\tCigars\", \"Oveja Negra Brands/Black Label Trading Co. Dissident Cigars\tinfo@ovejanegracigars\tCigars\", \"Padron Cigars\tinfo@padron.com\tCigars\", \"Patina Cigars\tpatinacigars@gmail.com\tCigars\", \"Patoro Cigars USA\tpr@patoro.com\tCigars\", \"PDR Cigar Group\tsales@pdrcigar.com\tCigars\", \"Perdomo Cigars\tarthur@perdomocigars.com\tCigars\", \"Plasencia Cigars\thank@plasencia1865.com\tCigars\", \"Platinum Nova Cigar LLC\tleo@novacigar.com\tCigars\", \"Principle Cigars Inc\tdcioffi@principlecigars.com\tCigars\", \"Privada Cigar Club/ Limited Cigar Asscociation\tbrian@privadacigarclub.com\tCigars\", \"Quesada Cigars/ S.A.G. Imports\tinfo@quesadacigars.com\tCigars\", \"Rebellion Cigars\trebellioncigars@gmail.com\tCigars\", \"RM Cigars\tRobert@rmartinezcigars.com\tCigars\", \"Rocky Patel Premium Cigars\tSBussler@rockypatel.com\tCigars\", \"Rojas Cigars LLC\talbert@rojascigars.com\tCigars\", \"RoMa Craft Tobac\tmike@romacrafttobac.com\tCigars\", \"Rson Cigars\taraia@rsonfire.com\tCigars\", \"Sacrificio Cigars LLC\tfrank@sacrificiocigars.com\tCigars\", \"Saga Cigars/De Los Reyes Cigars\tinfo@reyescigars.com\tCigars\", \"Sagrado Cigars\tjohn@sagradoglobal.com\tCigars\", \"Segovias De Esteli Cigars\tagarcia@antiguaesteli.com\tCigars\", \"Serafin de Cuba Cigars\tarnold@serafincigars.com\tCigars\", \"Serino Cigars\ttony@serinocigars.com\tCigars\", \"Sinistro Cigars\tcolemanlfine@gmail.com\tCigars\", \"Stallone Cigars\tsales@stallonecigars.com\tCigars\", \"Supreme Tobacco Haiti\tsales@supremetobaccohaiti.com\tCigars\", \"Tatuaje Cigars Inc\tenzotat@gmail.com\tCigars\", \"The House Of Lucky Cigar\tSimoncohen55@yahoo.com\tCigars\", \"Topper Cigar Co., Inc\tchristopper@prodigy.net\tCigars\", \"Toscano Cigars\tb.doyle@tocanoitalia.it\tCigars\", \"United Cigar Group\toliver@unitedcigargroup.com\tCigars\", \"Vicarias Cigars\tbobschiller@trejcigars.com\tCigars\", \"Warfighter Tobacco\tsjansen@warfightertobacco.com\tCigars\", \"West Tampa Tobacco Company\twesttampatobacco@gmail.com\tCigars\", \"Wildfire Cigar Company\tjeremy@wildfirecigars.com\tCigars\", \"Artesano del Tobacco\tgeson@artesanodeltobacco\tCigars, Smoker Accessories\", \"CigarzUp\tsteve@cigarzup.com\tCigars, Smoker Accessories\", \"Fratello Cigars\tomar@fratellocigar.com\tCigars, Smoker Accessories\", \"Alec Bradley Cigar Dist., Inc\talan@alecBradley.com\tCigars, Gifts, Humidors\", \"Alfonso Selected Tobacco\tsales@selectedtobacco.com\tCigars, Gifts, Humidors\", \"Arango Cigar Co.\tsales@arangocigarco.com\tCigars, Gifts, Humidors,Lighters,Leather,Tobacco,Pipes,RYO/MYO, Smoker Accessories\", \"Arturo Fuente\tbbrady@arturofuente.com\tCigars, Gifts, Smoker Accessories\", \"Battleground Cigars\tkaren.t1@att.net\tCigars, Pipes\", \"CS Cigars Family x Loyalty\tsales@cscigars.com\tCigars, Pipes, Smoker Accessories\", \"JC Newman Cigar Co\trdolak@jcnewman.com\tCigars, Smokers Accessories, Lighters, Humidors, Other\", \"Gurkha Cigars\tbmelone@gurkhacigars.com\tCigars, Smokers Accessories, Lighters,Gifts,Other\", \"Villiger Cigars North America\tm.arrazola@villigercigars.com\tCigars, Tobacco\", \"Warped Cigars LLC\tkyle@warpedcigars.com\tCigars, Smoker Accessories, jewelry, Gifts, Other\", \"F&K Cigar Co.\tgezvan@fkcigar.com\tSmoker Accesories,Cigars,Pipes,Leather,Lighters,Tobaccos.\", \"Sutliff/Mac Baren Tobacco\tkdinkins@sutliff-tobacco.com\tSmoker Accessories, Cigars, Pipes, Tobaccos, RYO/MYO\", \"Zander-Greg\tinfo@zandergreg.com\tSmokers Accessories, Cigars, Humidors, Tobaccos, Leather, Lighters, RYO/MYO, Gifts, Other\", \"EWESTERN\tinfo@ewesterninc.com\tSmoker Accesories, Humidors, Humidification Lighters, Leather, Pipes, Other\", \"Art de Fumar\trglick@bgbfirm.com\tGifts, Smoker Accessories\", \"Bags of Bags\tmculverhouse@bagsofbags.com\tGifts, Smoker Accessories, humidification, other(custom printed bags.)\", \"XL Enterprises Ltd.\tsales@exelfashions.com\tSmoker Accesories, Leather, Other\", \"Guangxi Shuoyi Packaging Co., Limited\tsales5@sinosypackaging,com\tSmoker Accesories, Humidors\", \"Briarworks\tpete@briarworksusa.com\tPipes, Smoker Accessories\", \"Paykoc Imports\tcagripaykoc@hotmail.com\tPipes, Smoker Accessories\", \"Tobacco Pipe Exporters, Inc\tKBrack9657@aol.com\tPipes, Smoker Accessories\", \"Brizard & Co.\tcyril@brizardandco.com\tSmoker Accessories\", \"Ciccar Life\tdustin@ciccarlife.com\tSmoker Accessories\", \"Cigarmedics Inc\ttom@cigarmedics.com\tSmoker Accessories\", \"Firstland International Inc\tcustomers@firstland.us\tSmoker Accessories\", \"Les Fines Lames\tpierre@lesfineslames.com\tSmoker Accessories\", \"Paramount Packaging Service LTD\tcharles@whatapak.com\tSmoker Accessories\", \"PK Rooms LLC\tmichaeltpike@msn.com\tSmoker Accessories\", \"Stick the Stick LLC\tnvre775@gmail.com\tSmoker Accessories\", \"Stynger\tinfo@stynger.com\tSmoker Accessories\", \"Sonic Humidifiers\tsales@sonichumidifiers.com\tSmoker Accessories, Apparel\", \"The Cigar Ashtray\tsales@thecigarashtray.com\tSmoker Accessories, Ashtrays\", \"HRSE Cigars Ashtray\thronly@hotmail.com\tSmoker Accessories, Ashtrays, Lighters\", \"SZ Wholesale\tSales@szwholesale.net\tSmoker Accessories, Cigars\", \"National Conveniece Distributors\tatassinari@thencd.com\tSmoker Accessories, Cigars, Humidors, Tobaccos, Leather, Lighters, Other\", \"Rouseco Inc\tjam@rousecoinc.com\tSmoker Accessories, Cigars, Pipes,Tobaccos, Leather, Lighters, Other\", \"DreamSeat\ttaltadonna@dreamseat.com\tSmoker Accessories, Furniture\", \"Integra Specialty Products\tsomlor@integra-products.com\tSmoker Accessories, Humidification\", \"International Plastics\tChris@interplas.com\tSmoker Accessories, Humidification\", \"Guangxi Shuoyi Woodware Co., Limited\tsales5@sinosypackaging,com\tSmoker Accessories, Humidors\", \"Raching Cigar Humidor\tsheilatan@raching.com\tSmoker Accessories, Humidors\", \"Signature 70/70\tbperkins@thecigador.com\tSmoker Accessories, Humidors\", \"Your Elegant Bar\tsupport@yourelegantbar.com\tSmoker Accessories, Humidors\", \"Weilongxin Crafts & Gifts Co LTD\tsakes@wlcrafts.com\tSmoker Accessories, Humidors, Humidification, Lighters, Gifts\", \"Quality Importers Trading Co Inc\tagoldman@qualityimporters.com\tSmoker Accessories, Humidors, Humidifiers, Lighters, Leather, RYO/MYO, jewlry, gifts\", \"Visol\tgaurang@visolproducts.com\tSmoker Accessories, Humidors, Lighters, Leather, Jewery, Gifts\", \"Prestige Import Group\tkeithtaub@prestigeimportgroup.com\tSmoker Accessories, Humidors, Lighters, Leather,Gifts.\", \"Peter James Co.\tjohn@peterjamesco.com\tSmoker Accessories, Leather, Lighters, Humidors, Gifts\", \"Lotus Group/Integral Logistics\trysharp@lotuslighters.com\tSmoker Accessories, Leather, Lighters, Other\", \"Vertigo By Lotus\tinfo@LotusLighters.com\tSmoker Accessories, Leather, Lighters, Other\", \"Maryland Match Corp\tkathy@marylandmatch.com\tSmoker Accessories, other\", \"Speedy Sweep inc\ttony@speedysweep.com\tSmoker Accessories, Other\", \"Laudisi Distribution Group\tjessica.brady@laudisi.com\tSmoker Accessories, Pipes, Leather, Lighters, Tobaccos\", \"Ningbo Smartist Import & Export Co LTD\tjari@smartist.com.cn\tSmoker Acessories\", \"Innovative Brands\tchrisanderson@fullhousewholesale.com\tSmokers Accessories\", \"Prometheus International inc\tprometheus@prometheuskkp.com\tSmokers Accessories, Lighters, Gifts\", \"Lucky Sales Inc\tjoey@luckysales.net\tSmokers Accessories, Lighters, Other\", \"Pinel Et Pinel\tcaroline@pineletpinel.com\tSmokers Accessories,Leather, Humidors, Gifts\", \"Boveda Inc.\tmaddy.arthur@bovedainc.com\tHumidification, Smoker Accessories\", \"Cigar Oasis\tdoswald@cigaroasis.com\tHumidors, Humidification, Hygrometers, Smoker Accessories\", \"Benchmark Humidors\td.jackson@benchmarkhumidors.com\tHumidors, Humidification, Smoker Accessories\", \"Case Elegance\tsupport@caseelegance.com\tHumidors, Humidification, Smoker Accessories\", \"Coles of London\tmark@colesoflondon.com\tLighters, Gifts, Writing Instruments, Accessories\", \"Rabbit Air\twelc@rabbitair.com\tAir Purification\", \"RK Ventures Inc.\tsales@lakeair.com\tAir Purification\", \"Micallef Cigars\tCigars\tammi@jmkint.com\", \"Cigar Rights of America - CRA\tharrison.clark@cigarrights.org\tAssociation\", \"Intertabac Trade Show\tccintermarketing.group@gmail.com\tAssociation\", \"Procigar\tIgenao@procigar.com\tAssociation\", \"Operation: Cigars for Warriors\tjohn.chernogorec@cigarsforwarriors.net\tCharitable Organization\", \"Gnymble\tcigar@gnymble.com\tOther\", \"Minea Electrical Appliance Co LTD\tike@minea.cn\tOther\", \"Avalara\tinfo@avalara.com\tAccounting, Software\", \"Rueda Media LLC\tcharlie@halfwheel.com\tMedia\", \"CubaOcho Museum\trobertodelacaridad17@gmail.com\tOther(museum, event holder, upcoming event: CigarElla wine and cigars)\", \"Craft, Inc\tKurt@craft-inc.com\tOther(small hardware like screws hinges and cigar lid stays)\", \"Air and Water Systems\taccounting@airandwatersystems.com\tHumidification Systems\", \"TAC Water & Misting Systems\tTACmisting@gmail.com\tHumidification Systems\", \"Cigars POS\tcort@posnation.com\tPOS Accounting\", \"Premium Tobacco Payment Processing\tmitch@nuvovompany.com\tPOS, Accounting Services\", \"Cigar Rings\tstarkyarias@cigar-rings.net\tPrinting(Cigar papers, rings, etc)\", \"Cigar Journal, LLC\twidmayer@cigarjournal.com\tPublication\", \"Cigar Specialist - DISSIM\tinfo@cigar-specialist.com\tConsulting Services\"]"
   ]
  },
  {
   "cell_type": "code",
   "execution_count": 22,
   "id": "665147a3-ef4c-4c1f-8860-9e26b95aafe5",
   "metadata": {},
   "outputs": [],
   "source": [
    "chunks = partition_contacts(contacts)"
   ]
  },
  {
   "cell_type": "code",
   "execution_count": 23,
   "id": "6056d3ee-2d79-4501-951f-15c194653b2b",
   "metadata": {},
   "outputs": [
    {
     "data": {
      "text/plain": [
       "71"
      ]
     },
     "execution_count": 23,
     "metadata": {},
     "output_type": "execute_result"
    }
   ],
   "source": [
    "len(chunks[0])"
   ]
  },
  {
   "cell_type": "code",
   "execution_count": 27,
   "id": "b7e3d97e-7488-418a-86fa-8f1f5dfaa706",
   "metadata": {},
   "outputs": [
    {
     "name": "stdout",
     "output_type": "stream",
     "text": [
      "JM Tobacco Inc\tinfo@jmtobacco.com\tCigars\n"
     ]
    }
   ],
   "source": [
    "print(chunks[0][70])"
   ]
  },
  {
   "cell_type": "code",
   "execution_count": 24,
   "id": "37d0c50c-b51e-41bf-8fde-7f738de76201",
   "metadata": {},
   "outputs": [
    {
     "data": {
      "text/plain": [
       "4"
      ]
     },
     "execution_count": 24,
     "metadata": {},
     "output_type": "execute_result"
    }
   ],
   "source": [
    "len(chunks)"
   ]
  },
  {
   "cell_type": "raw",
   "id": "a6fde48b-0429-4da9-89a0-03a40e5580aa",
   "metadata": {},
   "source": [
    "Get address prompt:\n",
    "\n",
    "Here is a list of cigar related companies, please get the addresses of these cigar companies. The format they are recorded in is \"Name, Contact, Categories\": Please only output the addresses."
   ]
  },
  {
   "cell_type": "code",
   "execution_count": 73,
   "id": "168c53a9-b3e7-4fa7-8b14-8e74d3014c23",
   "metadata": {},
   "outputs": [],
   "source": [
    "chunks_in_text = []\n",
    "for chunk in chunks:\n",
    "    val = \"\"\n",
    "    val += ' '.join([str(text) + \"\\n\" for text in chunk])\n",
    "    chunks_in_text.append(val)\n",
    "\n",
    "ini_get_address_prompt = \"Here is a list of these popular cigar related companies, get the addresses of these cigar companies from any source you have. The format they are recorded in is \\\"Name, Contact, Categories\\\":\" + chunks_in_text[0] + \"\\n Only output the addresses.\"\n"
   ]
  },
  {
   "cell_type": "code",
   "execution_count": 75,
   "id": "383d62c5-5dc0-4b8b-b52e-302bf94fe115",
   "metadata": {},
   "outputs": [
    {
     "data": {
      "text/plain": [
       "3858"
      ]
     },
     "execution_count": 75,
     "metadata": {},
     "output_type": "execute_result"
    }
   ],
   "source": [
    "len(ini_get_address_prompt)"
   ]
  },
  {
   "cell_type": "code",
   "execution_count": 74,
   "id": "56ff49db-fb33-41e7-9e74-6519682cf81e",
   "metadata": {},
   "outputs": [
    {
     "data": {
      "text/plain": [
       "3643"
      ]
     },
     "execution_count": 74,
     "metadata": {},
     "output_type": "execute_result"
    }
   ],
   "source": [
    "len(\"Please continue finding addresses for these: \" + chunks_in_text[1])"
   ]
  },
  {
   "cell_type": "code",
   "execution_count": 58,
   "id": "4a0c91d1-3121-4439-9e50-e301b64d6103",
   "metadata": {},
   "outputs": [],
   "source": [
    "for text_chunk in chunks_in_text[1:]:\n",
    "    new_address_prompt = str(\"Please continue finding addresses for these: \" + chunks_in_text[1])"
   ]
  },
  {
   "cell_type": "code",
   "execution_count": 87,
   "id": "4650e9fc-151a-4771-bfb2-414e2874413f",
   "metadata": {},
   "outputs": [
    {
     "name": "stdout",
     "output_type": "stream",
     "text": [
      "Prestige Import Group\tkeithtaub@prestigeimportgroup.com\tSmoker Accessories, Humidors, Lighters, Leather,Gifts.\n",
      " Peter James Co.\tjohn@peterjamesco.com\tSmoker Accessories, Leather, Lighters, Humidors, Gifts\n",
      " Lotus Group/Integral Logistics\trysharp@lotuslighters.com\tSmoker Accessories, Leather, Lighters, Other\n",
      " Vertigo By Lotus\tinfo@LotusLighters.com\tSmoker Accessories, Leather, Lighters, Other\n",
      " Maryland Match Corp\tkathy@marylandmatch.com\tSmoker Accessories, other\n",
      " Speedy Sweep inc\ttony@speedysweep.com\tSmoker Accessories, Other\n",
      " Laudisi Distribution Group\tjessica.brady@laudisi.com\tSmoker Accessories, Pipes, Leather, Lighters, Tobaccos\n",
      " Ningbo Smartist Import & Export Co LTD\tjari@smartist.com.cn\tSmoker Acessories\n",
      " Innovative Brands\tchrisanderson@fullhousewholesale.com\tSmokers Accessories\n",
      " Prometheus International inc\tprometheus@prometheuskkp.com\tSmokers Accessories, Lighters, Gifts\n",
      " Lucky Sales Inc\tjoey@luckysales.net\tSmokers Accessories, Lighters, Other\n",
      " Pinel Et Pinel\tcaroline@pineletpinel.com\tSmokers Accessories,Leather, Humidors, Gifts\n",
      " Boveda Inc.\tmaddy.arthur@bovedainc.com\tHumidification, Smoker Accessories\n",
      " Cigar Oasis\tdoswald@cigaroasis.com\tHumidors, Humidification, Hygrometers, Smoker Accessories\n",
      " Benchmark Humidors\td.jackson@benchmarkhumidors.com\tHumidors, Humidification, Smoker Accessories\n",
      " Case Elegance\tsupport@caseelegance.com\tHumidors, Humidification, Smoker Accessories\n",
      " Coles of London\tmark@colesoflondon.com\tLighters, Gifts, Writing Instruments, Accessories\n",
      " Rabbit Air\twelc@rabbitair.com\tAir Purification\n",
      " RK Ventures Inc.\tsales@lakeair.com\tAir Purification\n",
      " Micallef Cigars\tCigars\tammi@jmkint.com\n",
      " Cigar Rights of America - CRA\tharrison.clark@cigarrights.org\tAssociation\n",
      " Intertabac Trade Show\tccintermarketing.group@gmail.com\tAssociation\n",
      " Procigar\tIgenao@procigar.com\tAssociation\n",
      " Operation: Cigars for Warriors\tjohn.chernogorec@cigarsforwarriors.net\tCharitable Organization\n",
      " Gnymble\tcigar@gnymble.com\tOther\n",
      " Minea Electrical Appliance Co LTD\tike@minea.cn\tOther\n",
      " Avalara\tinfo@avalara.com\tAccounting, Software\n",
      " Rueda Media LLC\tcharlie@halfwheel.com\tMedia\n",
      " CubaOcho Museum\trobertodelacaridad17@gmail.com\tOther(museum, event holder, upcoming event: CigarElla wine and cigars)\n",
      " Craft, Inc\tKurt@craft-inc.com\tOther(small hardware like screws hinges and cigar lid stays)\n",
      " Air and Water Systems\taccounting@airandwatersystems.com\tHumidification Systems\n",
      " TAC Water & Misting Systems\tTACmisting@gmail.com\tHumidification Systems\n",
      " Cigars POS\tcort@posnation.com\tPOS Accounting\n",
      " Premium Tobacco Payment Processing\tmitch@nuvovompany.com\tPOS, Accounting Services\n",
      " Cigar Rings\tstarkyarias@cigar-rings.net\tPrinting(Cigar papers, rings, etc)\n",
      " Cigar Journal, LLC\twidmayer@cigarjournal.com\tPublication\n",
      " Cigar Specialist - DISSIM\tinfo@cigar-specialist.com\tConsulting Services\n",
      "\n"
     ]
    }
   ],
   "source": [
    "print(chunks_in_text[3])"
   ]
  },
  {
   "cell_type": "code",
   "execution_count": 65,
   "id": "a2ee92fe-fbe7-4640-a828-ce1f9a4de959",
   "metadata": {},
   "outputs": [
    {
     "name": "stdout",
     "output_type": "stream",
     "text": [
      "Requirement already satisfied: python-dotenv in c:\\users\\freecast-box-m01\\appdata\\local\\programs\\python\\python311\\lib\\site-packages (1.0.0)\n"
     ]
    }
   ],
   "source": [
    "!pip install python-dotenv"
   ]
  },
  {
   "cell_type": "code",
   "execution_count": 66,
   "id": "13953972-d789-4b1b-a4bc-462bb08ccef9",
   "metadata": {},
   "outputs": [
    {
     "data": {
      "text/plain": [
       "True"
      ]
     },
     "execution_count": 66,
     "metadata": {},
     "output_type": "execute_result"
    }
   ],
   "source": [
    "import os\n",
    "from dotenv import load_dotenv\n",
    "import openai\n",
    "\n",
    "load_dotenv()\n"
   ]
  },
  {
   "cell_type": "code",
   "execution_count": 67,
   "id": "265d5e02-d03c-4c34-80de-47f041637cfa",
   "metadata": {},
   "outputs": [],
   "source": [
    "openai.api_key = os.getenv(\"OPENAI_API_KEY\")"
   ]
  },
  {
   "cell_type": "code",
   "execution_count": 76,
   "id": "ba499116-b8e1-4f5a-b9a4-1c43c70ad826",
   "metadata": {},
   "outputs": [
    {
     "data": {
      "text/plain": [
       "<OpenAIObject chat.completion id=chatcmpl-88t3W6J79ec0Ugb5tti1JAWSkcMLk at 0x146efdc1130> JSON: {\n",
       "  \"id\": \"chatcmpl-88t3W6J79ec0Ugb5tti1JAWSkcMLk\",\n",
       "  \"object\": \"chat.completion\",\n",
       "  \"created\": 1697128950,\n",
       "  \"model\": \"gpt-3.5-turbo-0613\",\n",
       "  \"choices\": [\n",
       "    {\n",
       "      \"index\": 0,\n",
       "      \"message\": {\n",
       "        \"role\": \"assistant\",\n",
       "        \"content\": \"I'm sorry, but as a data source, I don't have access to real-time information or the ability to browse the internet. However, you can try searching for the addresses of these cigar companies on their respective websites or using online directories.\"\n",
       "      },\n",
       "      \"finish_reason\": \"stop\"\n",
       "    }\n",
       "  ],\n",
       "  \"usage\": {\n",
       "    \"prompt_tokens\": 1388,\n",
       "    \"completion_tokens\": 49,\n",
       "    \"total_tokens\": 1437\n",
       "  }\n",
       "}"
      ]
     },
     "execution_count": 76,
     "metadata": {},
     "output_type": "execute_result"
    }
   ],
   "source": [
    "response = openai.ChatCompletion.create(\n",
    "    model=\"gpt-3.5-turbo\",\n",
    "    messages=[\n",
    "        {\"role\": \"system\", \"content\": \"You are a data source that finds information from your own records when it is missing.\"},\n",
    "        {\"role\": \"user\", \"content\": ini_get_address_prompt},\n",
    "    ],\n",
    "    temperature=0.6,\n",
    ")\n",
    "response"
   ]
  },
  {
   "cell_type": "code",
   "execution_count": 86,
   "id": "38e3d7e5-b0d4-4f86-bbaf-1da994826b80",
   "metadata": {},
   "outputs": [
    {
     "data": {
      "text/plain": [
       "<OpenAIObject chat.completion id=chatcmpl-88tZM1FkYcZTyEVeMlXX5JYDXRuex at 0x146efdc1df0> JSON: {\n",
       "  \"id\": \"chatcmpl-88tZM1FkYcZTyEVeMlXX5JYDXRuex\",\n",
       "  \"object\": \"chat.completion\",\n",
       "  \"created\": 1697130924,\n",
       "  \"model\": \"gpt-3.5-turbo-0613\",\n",
       "  \"choices\": [\n",
       "    {\n",
       "      \"index\": 0,\n",
       "      \"message\": {\n",
       "        \"role\": \"assistant\",\n",
       "        \"content\": \"CLE Cigars is located at 1345 Broadway, New York, NY 10018, United States.\"\n",
       "      },\n",
       "      \"finish_reason\": \"stop\"\n",
       "    }\n",
       "  ],\n",
       "  \"usage\": {\n",
       "    \"prompt_tokens\": 54,\n",
       "    \"completion_tokens\": 23,\n",
       "    \"total_tokens\": 77\n",
       "  }\n",
       "}"
      ]
     },
     "execution_count": 86,
     "metadata": {},
     "output_type": "execute_result"
    }
   ],
   "source": [
    "response2 = openai.ChatCompletion.create(\n",
    "    model=\"gpt-3.5-turbo\",\n",
    "    messages=[\n",
    "        {\"role\": \"system\", \"content\": \"You are a maps app that gives non-real time information. You only give the address and no other wordy descriptions.\"},\n",
    "        {\"role\": \"user\", \"content\": \"where is CLE Cigars located? (doesn't need to be real-time related)\"},\n",
    "    ],\n",
    "    temperature=0.6,\n",
    ")\n",
    "response2"
   ]
  },
  {
   "cell_type": "code",
   "execution_count": null,
   "id": "72aa0a3b-a2ea-47ef-8462-88d402295421",
   "metadata": {},
   "outputs": [],
   "source": [
    "time.sleep(120)"
   ]
  },
  {
   "cell_type": "code",
   "execution_count": 93,
   "id": "52407f66-bfde-4926-9fab-f753a00a5138",
   "metadata": {},
   "outputs": [],
   "source": [
    "sample_question_to_assistant = \"Please get the addresses of all the following companies: Aroma de Nicaragua\taromadenicaragua@gmail.com\\\n",
    "    Artista Cigars\tinfo@artistacigars.com\\\n",
    "    Blackbird Cigar Corp. Sales@blackbirdcigar.com\\\n",
    "    Blue Mountain Cigars sales@bluemountaincigars.com\\\n",
    "    CASA 1910\tsalesusa@casa1910.com\\\n",
    "    Casa Caraballo Cigars\tcaraballom60@yahoo.com\\\n",
    "    CigarBros USA Inc\tinfo@cigarbros.com\\\n",
    "    Curivari Cigars int'l\tcucigars@gmail.com\\\n",
    "    DAV Cigars\tcontact@davcigars.com\"\n",
    "\n",
    "sample_response_from_assistant = \"Aroma de Nicaragua\t3901 NW 79 Ave #224 Miami, FL 33185\\\n",
    "    Artista Cigars\t5930 NW 99TH AVE, Doral, FL 33178\\\n",
    "    Blackbird Cigar Corp.\t3110 W 84th St UNIT 1, Hialeah, FL 33018\\\n",
    "    Blue Mountain Cigars\t10212 NW 80th Ave, Hialeah Gardens, FL 33016\\\n",
    "    CASA 1910\tChihuahua 78, Roma Nte., Cuauhtémoc, 07300 Ciudad de México, CDMX, Mexico\\\n",
    "    Casa Caraballo Cigars\t925 N Courteney Pkwy 1-5. Merritt Island \\\n",
    "    CigarBros USA Inc\t2613 Diamond St Apt D Rosamond CA 93560\\\n",
    "    Curivari Cigars int'l\t814 Ponce De Leon Blvd Ste 310, Coral Gables, Florida, 33134\\\n",
    "    DAV Cigars\t63-10 Woodhaven Blvd, Rego Park, NY 11374\"\n",
    "\n"
   ]
  },
  {
   "cell_type": "code",
   "execution_count": 96,
   "id": "d1350b6e-e48b-48c5-8f65-11846e7db874",
   "metadata": {},
   "outputs": [
    {
     "data": {
      "text/plain": [
       "<OpenAIObject chat.completion id=chatcmpl-88wgAsiIeugsZnhzEPmvzz4u7fqwS at 0x146efdc3290> JSON: {\n",
       "  \"id\": \"chatcmpl-88wgAsiIeugsZnhzEPmvzz4u7fqwS\",\n",
       "  \"object\": \"chat.completion\",\n",
       "  \"created\": 1697142878,\n",
       "  \"model\": \"gpt-3.5-turbo-0613\",\n",
       "  \"choices\": [\n",
       "    {\n",
       "      \"index\": 0,\n",
       "      \"message\": {\n",
       "        \"role\": \"assistant\",\n",
       "        \"content\": \"Tabanero Cigars\\t1601 E 7th Ave, Tampa, FL 33605\\n7-20-4 Vintage Cigars\\t64 Main St, New Ipswich, NH 03071\\nADV & McKay Cigars Co. S.R.L.\\tAv. San Mart\\u00edn 1469, 5500 Mendoza, Argentina\\nAganorsa Leaf\\t1635 N Main St, Miami, FL 33135\\nAJ Fernandez\\t11425 NW 107th St, Miami, FL 33178\\nAll Saints Cigars\\t10880 NW 138th St, Hialeah, FL 33018\\nApostate Cigars\\tNo address available\\nAPS Distributors\\tNo address available\\nAroma de Nicaragua\\t3901 NW 79 Ave #224 Miami, FL 33185\\nArtista Cigars\\t5930 NW 99TH AVE, Doral, FL 33178\\nAshton Distributors\\tPO Box 1199, Philadelphia, PA 19105\\nB.A.M.F. Cigars\\tNo address available\\nBest Cigars\\tNo address available\\nBig Sky Cigars\\tNo address available\\nBlack Star Line Cigars\\tNo address available\\nBlackbird Cigar Corp.\\t3110 W 84th St UNIT 1, Hialeah, FL 33018\\nBlanco Cigar Co.\\tNo address available\\nBlue Mountain Cigars\\t10212 NW 80th Ave, Hialeah Gardens, FL 33016\\nC.L.E. Cigar Company\\tNo address available\\nCaldwell Cigar Co./ La Barba/Lost and Found\\tNo address available\\nCarolina Cigar Company\\tNo address available\\nCASA 1910\\tChihuahua 78, Roma Nte., Cuauht\\u00e9moc, 07300 Ciudad de M\\u00e9xico, CDMX, Mexico\\nCasa Caraballo Cigars\\t925 N Courteney Pkwy 1-5, Merritt Island, FL 32953\\nCasa De Suenos Cigars\\tNo address available\\nCasadagli Cigars\\tNo address available\\nCavalier Premium Cigars\\tNo address available\\nCelebrity Cigars\\tNo address available\\nCeron Premium Cigars\\tNo address available\\nCigar In The Bottle, Inc\\tNo address available\\nCigarBros USA Inc\\t2613 Diamond St Apt D, Rosamond, CA 93560\\nCompadres Cigars\\tNo address available\\nCrowned Heads LLC\\tNo address available\\nCrux Cigar Company\\tNo address available\\nCuba Aliados\\tNo address available\\nCurivari Cigars int'l\\t814 Ponce De Leon Blvd Ste 310, Coral Gables, FL 33134\\nDapper Cigar Company\\tNo address available\\nDAV Cigars\\t63-10 Woodhaven Blvd, Rego Park, NY 11374\\nDBL Cigars LLC\\tNo address available\\nDebonaire/Indian Motorcycle Cigars\\tNo address available\\nDefinition Cigars\\tNo address available\\nDon Doroteo Cigars\\tNo address available\\nDos Jotas Cigars SRL\\tNo address available\\nDrunk Chicken Cigars\\tNo address available\\nDunbarton Tobacco & Trust\\tNo address available\\nDurfort Holdings\\tNo address available\\nEpic Cigars\\tNo address available\\nErez Cigars Corp\\tNo address available\\nEspinosa Cigars\\tNo address available\\nEsteban Carreras Cigar Co\\tNo address available\\nFalto Cigars\\tNo address available\\nFerio Tego LLC\\tNo address available\\nFerrera Cigars\\tNo address available\\nFoundation Cigar Company\\tNo address available\\nFreud Cigars\\tNo address available\\nFYL Cigars\\tNo address available\\nGaro Cigars\\tNo address available\\nGCigar\\tNo address available\\nGerman Engineered Cigars\\tNo address available\\nGlobal Premium Cigars LLC\\tNo address available\\nGran Habano Cigars\\tNo address available\\nGraycliff Cigar Company\\tNo address available\\nGTO Cigars\\tNo address available\\nHiram and Solomon CIgars\\tNo address available\\nHooten & Young Cigars\\tNo address available\\nHVC\\tNo address available\\nIconic Leaf Cigar Company LLC\\tNo address available\\nIllusione Cigars\\tNo address available\\nIslamorada Cigar Company\\tNo address available\\nJake Wyatt Cigar Co.\\tNo address available\\nJM Tobacco Inc\\tNo address available\"\n",
       "      },\n",
       "      \"finish_reason\": \"stop\"\n",
       "    }\n",
       "  ],\n",
       "  \"usage\": {\n",
       "    \"prompt_tokens\": 1769,\n",
       "    \"completion_tokens\": 970,\n",
       "    \"total_tokens\": 2739\n",
       "  }\n",
       "}"
      ]
     },
     "execution_count": 96,
     "metadata": {},
     "output_type": "execute_result"
    }
   ],
   "source": [
    "response3 = openai.ChatCompletion.create(\n",
    "    model=\"gpt-3.5-turbo\",\n",
    "    messages=[\n",
    "        {\"role\": \"system\", \"content\": \"You are a maps app that gives non-real time information and all you can. You only give the address and no other wordy descriptions.\"},\n",
    "        {\"role\": \"user\", \"content\": sample_question_to_assistant},\n",
    "        {\"role\": \"assistant\", \"content\":sample_response_from_assistant},\n",
    "        {\"role\": \"user\", \"content\": ini_get_address_prompt},\n",
    "    ],\n",
    "    temperature=0.4,\n",
    ")\n",
    "response3"
   ]
  },
  {
   "cell_type": "code",
   "execution_count": 109,
   "id": "858dc379-69ba-4d3a-a7ce-aca7fb031428",
   "metadata": {},
   "outputs": [
    {
     "name": "stdout",
     "output_type": "stream",
     "text": [
      "Tabanero Cigars\t1601 E 7th Ave, Tampa, FL 33605\n",
      "7-20-4 Vintage Cigars\t64 Main St, New Ipswich, NH 03071\n",
      "ADV & McKay Cigars Co. S.R.L.\tAv. San Martín 1469, 5500 Mendoza, Argentina\n",
      "Aganorsa Leaf\t1635 N Main St, Miami, FL 33135\n",
      "AJ Fernandez\t11425 NW 107th St, Miami, FL 33178\n",
      "All Saints Cigars\t10880 NW 138th St, Hialeah, FL 33018\n",
      "Apostate Cigars\tNo address available\n",
      "APS Distributors\tNo address available\n",
      "Aroma de Nicaragua\t3901 NW 79 Ave #224 Miami, FL 33185\n",
      "Artista Cigars\t5930 NW 99TH AVE, Doral, FL 33178\n",
      "Ashton Distributors\tPO Box 1199, Philadelphia, PA 19105\n",
      "B.A.M.F. Cigars\tNo address available\n",
      "Best Cigars\tNo address available\n",
      "Big Sky Cigars\tNo address available\n",
      "Black Star Line Cigars\tNo address available\n",
      "Blackbird Cigar Corp.\t3110 W 84th St UNIT 1, Hialeah, FL 33018\n",
      "Blanco Cigar Co.\tNo address available\n",
      "Blue Mountain Cigars\t10212 NW 80th Ave, Hialeah Gardens, FL 33016\n",
      "C.L.E. Cigar Company\tNo address available\n",
      "Caldwell Cigar Co./ La Barba/Lost and Found\tNo address available\n",
      "Carolina Cigar Company\tNo address available\n",
      "CASA 1910\tChihuahua 78, Roma Nte., Cuauhtémoc, 07300 Ciudad de México, CDMX, Mexico\n",
      "Casa Caraballo Cigars\t925 N Courteney Pkwy 1-5, Merritt Island, FL 32953\n",
      "Casa De Suenos Cigars\tNo address available\n",
      "Casadagli Cigars\tNo address available\n",
      "Cavalier Premium Cigars\tNo address available\n",
      "Celebrity Cigars\tNo address available\n",
      "Ceron Premium Cigars\tNo address available\n",
      "Cigar In The Bottle, Inc\tNo address available\n",
      "CigarBros USA Inc\t2613 Diamond St Apt D, Rosamond, CA 93560\n",
      "Compadres Cigars\tNo address available\n",
      "Crowned Heads LLC\tNo address available\n",
      "Crux Cigar Company\tNo address available\n",
      "Cuba Aliados\tNo address available\n",
      "Curivari Cigars int'l\t814 Ponce De Leon Blvd Ste 310, Coral Gables, FL 33134\n",
      "Dapper Cigar Company\tNo address available\n",
      "DAV Cigars\t63-10 Woodhaven Blvd, Rego Park, NY 11374\n",
      "DBL Cigars LLC\tNo address available\n",
      "Debonaire/Indian Motorcycle Cigars\tNo address available\n",
      "Definition Cigars\tNo address available\n",
      "Don Doroteo Cigars\tNo address available\n",
      "Dos Jotas Cigars SRL\tNo address available\n",
      "Drunk Chicken Cigars\tNo address available\n",
      "Dunbarton Tobacco & Trust\tNo address available\n",
      "Durfort Holdings\tNo address available\n",
      "Epic Cigars\tNo address available\n",
      "Erez Cigars Corp\tNo address available\n",
      "Espinosa Cigars\tNo address available\n",
      "Esteban Carreras Cigar Co\tNo address available\n",
      "Falto Cigars\tNo address available\n",
      "Ferio Tego LLC\tNo address available\n",
      "Ferrera Cigars\tNo address available\n",
      "Foundation Cigar Company\tNo address available\n",
      "Freud Cigars\tNo address available\n",
      "FYL Cigars\tNo address available\n",
      "Garo Cigars\tNo address available\n",
      "GCigar\tNo address available\n",
      "German Engineered Cigars\tNo address available\n",
      "Global Premium Cigars LLC\tNo address available\n",
      "Gran Habano Cigars\tNo address available\n",
      "Graycliff Cigar Company\tNo address available\n",
      "GTO Cigars\tNo address available\n",
      "Hiram and Solomon CIgars\tNo address available\n",
      "Hooten & Young Cigars\tNo address available\n",
      "HVC\tNo address available\n",
      "Iconic Leaf Cigar Company LLC\tNo address available\n",
      "Illusione Cigars\tNo address available\n",
      "Islamorada Cigar Company\tNo address available\n",
      "Jake Wyatt Cigar Co.\tNo address available\n",
      "JM Tobacco Inc\tNo address available\n"
     ]
    }
   ],
   "source": [
    "print(response3.choices[0].message.content)"
   ]
  },
  {
   "cell_type": "code",
   "execution_count": 110,
   "id": "b685906a-85a0-4cbe-a0bd-00044bb61e8c",
   "metadata": {},
   "outputs": [
    {
     "data": {
      "text/plain": [
       "<OpenAIObject chat.completion id=chatcmpl-89DRmQTVX5Bi76uT3F8UTCOgxOnJu at 0x146ef9e8bf0> JSON: {\n",
       "  \"id\": \"chatcmpl-89DRmQTVX5Bi76uT3F8UTCOgxOnJu\",\n",
       "  \"object\": \"chat.completion\",\n",
       "  \"created\": 1697207334,\n",
       "  \"model\": \"gpt-3.5-turbo-0613\",\n",
       "  \"choices\": [\n",
       "    {\n",
       "      \"index\": 0,\n",
       "      \"message\": {\n",
       "        \"role\": \"assistant\",\n",
       "        \"content\": \"Joya De Nicaragua\\tEstel\\u00ed, Nicaragua    JRE Tobacco Co\\tDanl\\u00ed, Honduras    Kafie 1901 Cigars\\tDanl\\u00ed, Honduras    Karen Berger Cigars\\tDaytona Beach, FL 32114    Konscious Cigars LLC\\tOrlando, FL 32839    Kristoff Cigars\\tMiami, FL 33186    La Aurora\\tSantiago de los Caballeros, Dominican Republic    La Faraona\\tSantiago de los Caballeros, Dominican Republic    La Flor Dominicana Cigars\\tSantiago de los Caballeros, Dominican Republic    La Galera Cigars\\tSantiago de los Caballeros, Dominican Republic    La Matilde Cigar Co\\tSantiago de los Caballeros, Dominican Republic    Lapalina Cigars\\tWashington, DC 20036    Lampert Cigars\\tMiami, FL 33186    Linga Cigars\\tSantiago de los Caballeros, Dominican Republic    Lovely Cigars\\tMiami, FL 33186    Luciano Cigars\\tMiami, FL 33186    Luis Arias Cigar\\tMiami, FL 33186    Martinez Hand Rolled Cigar Factory\\tNew York, NY 10012    Miami Cigar & Company\\tMiami, FL 33166    My Father Cigars Inc\\tDoral, FL 33172    Nat Cicco\\tSacramento, CA 95834    Nomos Cigars\\tSan Diego, CA 92123    Ohana Nui Cigars\\tKailua-Kona, HI 96740    OM CIGAR CO\\tMiami, FL 33186    Oscar Valladares Tobacco & Co\\tDanl\\u00ed, Honduras    Oveja Negra Brands/Black Label Trading Co. Dissident Cigars\\tEstel\\u00ed, Nicaragua    Padron Cigars\\tMiami, FL 33172    Patina Cigars\\tMiami, FL 33186    Patoro Cigars USA\\tMiami, FL 33186    PDR Cigar Group\\tDoral, FL 33172    Perdomo Cigars\\tMiami, FL 33172    Plasencia Cigars\\tEstel\\u00ed, Nicaragua    Platinum Nova Cigar LLC\\tDoral, FL 33172    Principle Cigars Inc\\tMiami, FL 33186    Privada Cigar Club/ Limited Cigar Association\\tMiami, FL 33186    Quesada Cigars/ S.A.G. Imports\\tMiami, FL 33172    Rebellion Cigars\\tMiami, FL 33186    RM Cigars\\tNew York, NY 10012    Rocky Patel Premium Cigars\\tBonita Springs, FL 34135    Rojas Cigars LLC\\tOrlando, FL 32839    RoMa Craft Tobac\\tEstel\\u00ed, Nicaragua    Rson Cigars\\tMiami, FL 33186    Sacrificio Cigars LLC\\tMiami, FL 33186    Saga Cigars/De Los Reyes Cigars\\tSantiago de los Caballeros, Dominican Republic    Sagrado Cigars\\tMiami, FL 33186    Segovias De Esteli Cigars\\tEstel\\u00ed, Nicaragua    Serafin de Cuba Cigars\\tMiami, FL 33186    Serino Cigars\\tMiami, FL 33186    Sinistro Cigars\\tMiami, FL 33186    Stallone Cigars\\tMiami, FL 33186    Supreme Tobacco Haiti\\tPort-au-Prince, Haiti    Tatuaje Cigars Inc\\tMiami, FL 33186    The House Of Lucky Cigar\\tMiami, FL 33186    Topper Cigar Co., Inc\\tOrlando, FL 32839    Toscano Cigars\\tFlorence, Italy    United Cigar Group\\tMiami, FL 33186    Vicarias Cigars\\tMiami, FL 33186    Warfighter Tobacco\\tMiami, FL 33186    West Tampa Tobacco Company\\tTampa, FL 33607    Wildfire Cigar Company\\tMiami, FL 33186    Artesano del Tobacco\\tMiami, FL 33186    CigarzUp\\tMiami, FL 33186    Fratello Cigars\\tSpringfield, VA 22153    Alec Bradley Cigar Dist., Inc\\tDoral, FL 33172    Alfonso Selected Tobacco\\tMiami, FL 33186    Arango Cigar Co.\\tNorthbrook, IL 60062\"\n",
       "      },\n",
       "      \"finish_reason\": \"stop\"\n",
       "    }\n",
       "  ],\n",
       "  \"usage\": {\n",
       "    \"prompt_tokens\": 1699,\n",
       "    \"completion_tokens\": 936,\n",
       "    \"total_tokens\": 2635\n",
       "  }\n",
       "}"
      ]
     },
     "execution_count": 110,
     "metadata": {},
     "output_type": "execute_result"
    }
   ],
   "source": [
    "response4 = openai.ChatCompletion.create(\n",
    "    model=\"gpt-3.5-turbo\",\n",
    "    messages=[\n",
    "        {\"role\": \"system\", \"content\": \"You are a maps app that gives non-real time information and all you can. You only give the address and no other wordy descriptions.\"},\n",
    "        {\"role\": \"user\", \"content\": sample_question_to_assistant},\n",
    "        {\"role\": \"assistant\", \"content\":sample_response_from_assistant},\n",
    "        {\"role\": \"user\", \"content\": str(\"Continue finding addresses for these: \" + chunks_in_text[1])},\n",
    "    ],\n",
    "    temperature=0.4,\n",
    ")\n",
    "response4"
   ]
  },
  {
   "cell_type": "code",
   "execution_count": 111,
   "id": "a9a18df6-5f3a-4da1-8788-8564f2dfe372",
   "metadata": {},
   "outputs": [
    {
     "name": "stdout",
     "output_type": "stream",
     "text": [
      "Joya De Nicaragua\tEstelí, Nicaragua    JRE Tobacco Co\tDanlí, Honduras    Kafie 1901 Cigars\tDanlí, Honduras    Karen Berger Cigars\tDaytona Beach, FL 32114    Konscious Cigars LLC\tOrlando, FL 32839    Kristoff Cigars\tMiami, FL 33186    La Aurora\tSantiago de los Caballeros, Dominican Republic    La Faraona\tSantiago de los Caballeros, Dominican Republic    La Flor Dominicana Cigars\tSantiago de los Caballeros, Dominican Republic    La Galera Cigars\tSantiago de los Caballeros, Dominican Republic    La Matilde Cigar Co\tSantiago de los Caballeros, Dominican Republic    Lapalina Cigars\tWashington, DC 20036    Lampert Cigars\tMiami, FL 33186    Linga Cigars\tSantiago de los Caballeros, Dominican Republic    Lovely Cigars\tMiami, FL 33186    Luciano Cigars\tMiami, FL 33186    Luis Arias Cigar\tMiami, FL 33186    Martinez Hand Rolled Cigar Factory\tNew York, NY 10012    Miami Cigar & Company\tMiami, FL 33166    My Father Cigars Inc\tDoral, FL 33172    Nat Cicco\tSacramento, CA 95834    Nomos Cigars\tSan Diego, CA 92123    Ohana Nui Cigars\tKailua-Kona, HI 96740    OM CIGAR CO\tMiami, FL 33186    Oscar Valladares Tobacco & Co\tDanlí, Honduras    Oveja Negra Brands/Black Label Trading Co. Dissident Cigars\tEstelí, Nicaragua    Padron Cigars\tMiami, FL 33172    Patina Cigars\tMiami, FL 33186    Patoro Cigars USA\tMiami, FL 33186    PDR Cigar Group\tDoral, FL 33172    Perdomo Cigars\tMiami, FL 33172    Plasencia Cigars\tEstelí, Nicaragua    Platinum Nova Cigar LLC\tDoral, FL 33172    Principle Cigars Inc\tMiami, FL 33186    Privada Cigar Club/ Limited Cigar Association\tMiami, FL 33186    Quesada Cigars/ S.A.G. Imports\tMiami, FL 33172    Rebellion Cigars\tMiami, FL 33186    RM Cigars\tNew York, NY 10012    Rocky Patel Premium Cigars\tBonita Springs, FL 34135    Rojas Cigars LLC\tOrlando, FL 32839    RoMa Craft Tobac\tEstelí, Nicaragua    Rson Cigars\tMiami, FL 33186    Sacrificio Cigars LLC\tMiami, FL 33186    Saga Cigars/De Los Reyes Cigars\tSantiago de los Caballeros, Dominican Republic    Sagrado Cigars\tMiami, FL 33186    Segovias De Esteli Cigars\tEstelí, Nicaragua    Serafin de Cuba Cigars\tMiami, FL 33186    Serino Cigars\tMiami, FL 33186    Sinistro Cigars\tMiami, FL 33186    Stallone Cigars\tMiami, FL 33186    Supreme Tobacco Haiti\tPort-au-Prince, Haiti    Tatuaje Cigars Inc\tMiami, FL 33186    The House Of Lucky Cigar\tMiami, FL 33186    Topper Cigar Co., Inc\tOrlando, FL 32839    Toscano Cigars\tFlorence, Italy    United Cigar Group\tMiami, FL 33186    Vicarias Cigars\tMiami, FL 33186    Warfighter Tobacco\tMiami, FL 33186    West Tampa Tobacco Company\tTampa, FL 33607    Wildfire Cigar Company\tMiami, FL 33186    Artesano del Tobacco\tMiami, FL 33186    CigarzUp\tMiami, FL 33186    Fratello Cigars\tSpringfield, VA 22153    Alec Bradley Cigar Dist., Inc\tDoral, FL 33172    Alfonso Selected Tobacco\tMiami, FL 33186    Arango Cigar Co.\tNorthbrook, IL 60062\n"
     ]
    }
   ],
   "source": [
    "print(response4.choices[0].message.content)"
   ]
  },
  {
   "cell_type": "code",
   "execution_count": 112,
   "id": "020dd510-1e7b-44b2-b022-e457f7ca827a",
   "metadata": {},
   "outputs": [
    {
     "data": {
      "text/plain": [
       "<OpenAIObject chat.completion id=chatcmpl-89DbTIgswO3no1CafMyO3k9X0Ha5K at 0x146efdc2f30> JSON: {\n",
       "  \"id\": \"chatcmpl-89DbTIgswO3no1CafMyO3k9X0Ha5K\",\n",
       "  \"object\": \"chat.completion\",\n",
       "  \"created\": 1697207935,\n",
       "  \"model\": \"gpt-3.5-turbo-0613\",\n",
       "  \"choices\": [\n",
       "    {\n",
       "      \"index\": 0,\n",
       "      \"message\": {\n",
       "        \"role\": \"assistant\",\n",
       "        \"content\": \"Arturo Fuente\\t1315 NW 98th Ct, Doral, FL 33172    Battleground Cigars\\t3712 Battleground Ave, Greensboro, NC 27410    CS Cigars Family x Loyalty\\t5001 NW 72nd Ave, Miami, FL 33166    JC Newman Cigar Co\\t2701 N 16th St, Tampa, FL 33605    Gurkha Cigars\\t6600 Hiatus Rd, Tamarac, FL 33321    Villiger Cigars North America\\t1000 NW 57th Ct, Miami, FL 33126    Warped Cigars LLC\\t2650 SW 145th Ave, Miramar, FL 33027    F&K Cigar Co.\\t1040 NW 31st Ave, Pompano Beach, FL 33069    Sutliff/Mac Baren Tobacco\\t5500 NW 15th St, Margate, FL 33063    Zander-Greg\\t1500 NW 95th Ave, Doral, FL 33172    EWESTERN\\t1400 NW 159th St, Miami Gardens, FL 33169    Art de Fumar\\t101 NE 3rd Ave, Fort Lauderdale, FL 33301    Bags of Bags\\t3521 NW 115th Ave, Coral Springs, FL 33065    XL Enterprises Ltd.\\t13400 NW 38th Ct, Opa-locka, FL 33054    Guangxi Shuoyi Packaging Co., Limited\\tNo. 36, Xingdong Road, Shangsi County, Fangchenggang City, Guangxi, China    Briarworks\\t5111 N National Dr, Knoxville, TN 37914    Paykoc Imports\\t7075 S Fulton St, Centennial, CO 80112    Tobacco Pipe Exporters, Inc\\t100 S 4th St, Ste 550, Saint Louis, MO 63102    Brizard & Co.\\t1000 NW 57th Ct, Miami, FL 33126    Ciccar Life\\t6900 NW 52nd St, Miami, FL 33166    Cigarmedics Inc\\t1000 NW 57th Ct, Miami, FL 33126    Firstland International Inc\\t1000 NW 57th Ct, Miami, FL 33126    Les Fines Lames\\t1000 NW 57th Ct, Miami, FL 33126    Paramount Packaging Service LTD\\t1000 NW 57th Ct, Miami, FL 33126    PK Rooms LLC\\t1000 NW 57th Ct, Miami, FL 33126    Stick the Stick LLC\\t1000 NW 57th Ct, Miami, FL 33126    Stynger\\t1000 NW 57th Ct, Miami, FL 33126    Sonic Humidifiers\\t1000 NW 57th Ct, Miami, FL 33126    The Cigar Ashtray\\t1000 NW 57th Ct, Miami, FL 33126    HRSE Cigars Ashtray\\t1000 NW 57th Ct, Miami, FL 33126    SZ Wholesale\\t1000 NW 57th Ct, Miami, FL 33126    National Conveniece Distributors\\t1000 NW 57th Ct, Miami, FL 33126    Rouseco Inc\\t1000 NW 57th Ct, Miami, FL 33126    DreamSeat\\t1000 NW 57th Ct, Miami, FL 33126    Integra Specialty Products\\t1000 NW 57th Ct, Miami, FL 33126    International Plastics\\t1000 NW 57th Ct, Miami, FL 33126    Guangxi Shuoyi Woodware Co., Limited\\tNo. 36, Xingdong Road, Shangsi County, Fangchenggang City, Guangxi, China    Raching Cigar Humidor\\tNo. 36, Xingdong Road, Shangsi County, Fangchenggang City, Guangxi, China    Signature 70/70\\t1000 NW 57th Ct, Miami, FL 33126    Your Elegant Bar\\t1000 NW 57th Ct, Miami, FL 33126    Weilongxin Crafts & Gifts Co LTD\\tNo. 36, Xingdong Road, Shangsi County, Fangchenggang City, Guangxi, China    Quality Importers Trading Co Inc\\t1000 NW 57th Ct, Miami, FL 33126    Visol\\t1000 NW 57th Ct, Miami, FL 33126\"\n",
       "      },\n",
       "      \"finish_reason\": \"stop\"\n",
       "    }\n",
       "  ],\n",
       "  \"usage\": {\n",
       "    \"prompt_tokens\": 1477,\n",
       "    \"completion_tokens\": 953,\n",
       "    \"total_tokens\": 2430\n",
       "  }\n",
       "}"
      ]
     },
     "execution_count": 112,
     "metadata": {},
     "output_type": "execute_result"
    }
   ],
   "source": [
    "response4 = openai.ChatCompletion.create(\n",
    "    model=\"gpt-3.5-turbo\",\n",
    "    messages=[\n",
    "        {\"role\": \"system\", \"content\": \"You are a maps app that gives non-real time information and precise addresses. You only give the address and no other wordy descriptions.\"},\n",
    "        {\"role\": \"user\", \"content\": sample_question_to_assistant},\n",
    "        {\"role\": \"assistant\", \"content\":sample_response_from_assistant},\n",
    "        {\"role\": \"user\", \"content\": str(\"Continue finding the addresses of these: \" + chunks_in_text[2])},\n",
    "    ],\n",
    "    temperature=0.4,\n",
    ")\n",
    "response4"
   ]
  },
  {
   "cell_type": "code",
   "execution_count": 113,
   "id": "4701d670-a406-437d-89d8-1d55c0439a02",
   "metadata": {},
   "outputs": [
    {
     "name": "stdout",
     "output_type": "stream",
     "text": [
      "Arturo Fuente\t1315 NW 98th Ct, Doral, FL 33172    Battleground Cigars\t3712 Battleground Ave, Greensboro, NC 27410    CS Cigars Family x Loyalty\t5001 NW 72nd Ave, Miami, FL 33166    JC Newman Cigar Co\t2701 N 16th St, Tampa, FL 33605    Gurkha Cigars\t6600 Hiatus Rd, Tamarac, FL 33321    Villiger Cigars North America\t1000 NW 57th Ct, Miami, FL 33126    Warped Cigars LLC\t2650 SW 145th Ave, Miramar, FL 33027    F&K Cigar Co.\t1040 NW 31st Ave, Pompano Beach, FL 33069    Sutliff/Mac Baren Tobacco\t5500 NW 15th St, Margate, FL 33063    Zander-Greg\t1500 NW 95th Ave, Doral, FL 33172    EWESTERN\t1400 NW 159th St, Miami Gardens, FL 33169    Art de Fumar\t101 NE 3rd Ave, Fort Lauderdale, FL 33301    Bags of Bags\t3521 NW 115th Ave, Coral Springs, FL 33065    XL Enterprises Ltd.\t13400 NW 38th Ct, Opa-locka, FL 33054    Guangxi Shuoyi Packaging Co., Limited\tNo. 36, Xingdong Road, Shangsi County, Fangchenggang City, Guangxi, China    Briarworks\t5111 N National Dr, Knoxville, TN 37914    Paykoc Imports\t7075 S Fulton St, Centennial, CO 80112    Tobacco Pipe Exporters, Inc\t100 S 4th St, Ste 550, Saint Louis, MO 63102    Brizard & Co.\t1000 NW 57th Ct, Miami, FL 33126    Ciccar Life\t6900 NW 52nd St, Miami, FL 33166    Cigarmedics Inc\t1000 NW 57th Ct, Miami, FL 33126    Firstland International Inc\t1000 NW 57th Ct, Miami, FL 33126    Les Fines Lames\t1000 NW 57th Ct, Miami, FL 33126    Paramount Packaging Service LTD\t1000 NW 57th Ct, Miami, FL 33126    PK Rooms LLC\t1000 NW 57th Ct, Miami, FL 33126    Stick the Stick LLC\t1000 NW 57th Ct, Miami, FL 33126    Stynger\t1000 NW 57th Ct, Miami, FL 33126    Sonic Humidifiers\t1000 NW 57th Ct, Miami, FL 33126    The Cigar Ashtray\t1000 NW 57th Ct, Miami, FL 33126    HRSE Cigars Ashtray\t1000 NW 57th Ct, Miami, FL 33126    SZ Wholesale\t1000 NW 57th Ct, Miami, FL 33126    National Conveniece Distributors\t1000 NW 57th Ct, Miami, FL 33126    Rouseco Inc\t1000 NW 57th Ct, Miami, FL 33126    DreamSeat\t1000 NW 57th Ct, Miami, FL 33126    Integra Specialty Products\t1000 NW 57th Ct, Miami, FL 33126    International Plastics\t1000 NW 57th Ct, Miami, FL 33126    Guangxi Shuoyi Woodware Co., Limited\tNo. 36, Xingdong Road, Shangsi County, Fangchenggang City, Guangxi, China    Raching Cigar Humidor\tNo. 36, Xingdong Road, Shangsi County, Fangchenggang City, Guangxi, China    Signature 70/70\t1000 NW 57th Ct, Miami, FL 33126    Your Elegant Bar\t1000 NW 57th Ct, Miami, FL 33126    Weilongxin Crafts & Gifts Co LTD\tNo. 36, Xingdong Road, Shangsi County, Fangchenggang City, Guangxi, China    Quality Importers Trading Co Inc\t1000 NW 57th Ct, Miami, FL 33126    Visol\t1000 NW 57th Ct, Miami, FL 33126\n"
     ]
    }
   ],
   "source": [
    "print(response4.choices[0].message.content)"
   ]
  },
  {
   "cell_type": "code",
   "execution_count": 114,
   "id": "357cfd98-a87a-419a-8f17-8161f5f9b38e",
   "metadata": {},
   "outputs": [
    {
     "data": {
      "text/plain": [
       "<OpenAIObject chat.completion id=chatcmpl-89DjqzHhC4t21fwTI7a44lxytp4wg at 0x146f0515f70> JSON: {\n",
       "  \"id\": \"chatcmpl-89DjqzHhC4t21fwTI7a44lxytp4wg\",\n",
       "  \"object\": \"chat.completion\",\n",
       "  \"created\": 1697208454,\n",
       "  \"model\": \"gpt-4-0613\",\n",
       "  \"choices\": [\n",
       "    {\n",
       "      \"index\": 0,\n",
       "      \"message\": {\n",
       "        \"role\": \"assistant\",\n",
       "        \"content\": \"Prestige Import Group\\t385 S. Leonard St, Waterbury, CT 06708\\nPeter James Co.\\t3400 11th St NW, Washington, DC 20010\\nLotus Group/Integral Logistics\\t6500 NW 12th Ave #101, Fort Lauderdale, FL 33309\\nVertigo By Lotus\\t6500 NW 12th Ave #101, Fort Lauderdale, FL 33309\\nMaryland Match Corp\\t11401 Cronridge Dr, Owings Mills, MD 21117\\nSpeedy Sweep inc\\t1000 E Valencia Dr, Fullerton, CA 92831\\nLaudisi Distribution Group\\t550 Hwy 9 East, Longs, SC 29568\\nNingbo Smartist Import & Export Co LTD\\tNo.168, Changyang Road, Hongtang Street, Jiangbei District, Ningbo, Zhejiang, China\\nInnovative Brands\\t1121 Industrial Pkwy N, Brunswick, OH 44212\\nPrometheus International inc\\t6231 Bandini Blvd, Los Angeles, CA 90040\\nLucky Sales Inc\\t1930 S Susan St, Santa Ana, CA 92704\\nPinel Et Pinel\\t22 Rue Royale, 75008 Paris, France\\nBoveda Inc.\\t10237 Yellow Circle Dr, Minnetonka, MN 55343\\nCigar Oasis\\t64 Alpha Plaza, Hicksville, NY 11801\\nBenchmark Humidors\\tPO Box 129, St. Albans, MO 63073\\nCase Elegance\\tPO Box 2902, Issaquah, WA 98027\\nColes of London\\t650 Miami Cir NE #700, Atlanta, GA 30324\\nRabbit Air\\t5514 S Garfield Ave, Los Angeles, CA 90040\\nRK Ventures Inc.\\t2880 N Flowing Wells Rd, Tucson, AZ 85705\\nMicallef Cigars\\t1300 Summit Ave #170, Fort Worth, TX 76102\\nCigar Rights of America - CRA\\t300 New Jersey Ave NW #900, Washington, DC 20001\\nIntertabac Trade Show\\tWestfalenhallen Dortmund GmbH, Rheinlanddamm 200, 44139 Dortmund, Germany\\nProcigar\\tAve. 27 de Febrero No. 211, Plaza Progreso, Local 2B, Santiago, Dominican Republic\\nOperation: Cigars for Warriors\\t8585 SW Hwy 200, Unit 16, Ocala, FL 34481\\nGnymble\\t1 Broadway, Cambridge, MA 02142\\nMinea Electrical Appliance Co LTD\\tNo. 18, Yanshan Road, Yuyao, Ningbo, Zhejiang, China\\nAvalara\\t255 S King St #1800, Seattle, WA 98104\\nRueda Media LLC\\tPO Box 1652, Sachse, TX 75048\\nCubaOcho Museum\\t1465 SW 8th St #106, Miami, FL 33135\\nCraft, Inc\\t91 Cypress St, Plymouth, MA 02360\\nAir and Water Systems\\t136 Knob Hill Rd, Mooresville, NC 28117\\nTAC Water & Misting Systems\\t5115 N 27th Ave, Phoenix, AZ 85017\\nCigars POS\\t1300 Baxter St #454, Charlotte, NC 28204\\nPremium Tobacco Payment Processing\\t1 Bridge St #59, Irvington, NY 10533\\nCigar Rings\\tAv. Bartolom\\u00e9 Col\\u00f3n #70, Santiago De Los Caballeros, Dominican Republic\\nCigar Journal, LLC\\tHeiligenst\\u00e4dter Str. 6, 1190 Wien, Austria\\nCigar Specialist - DISSIM\\tPO Box 152, Gilbert, AZ 85299\"\n",
       "      },\n",
       "      \"finish_reason\": \"stop\"\n",
       "    }\n",
       "  ],\n",
       "  \"usage\": {\n",
       "    \"prompt_tokens\": 1185,\n",
       "    \"completion_tokens\": 797,\n",
       "    \"total_tokens\": 1982\n",
       "  }\n",
       "}"
      ]
     },
     "execution_count": 114,
     "metadata": {},
     "output_type": "execute_result"
    }
   ],
   "source": [
    "response4 = openai.ChatCompletion.create(\n",
    "    model=\"gpt-4\",\n",
    "    messages=[\n",
    "        {\"role\": \"system\", \"content\": \"You are a maps app that gives non-real time information and precise addresses. You only give the address and no other wordy descriptions.\"},\n",
    "        {\"role\": \"user\", \"content\": sample_question_to_assistant},\n",
    "        {\"role\": \"assistant\", \"content\":sample_response_from_assistant},\n",
    "        {\"role\": \"user\", \"content\": str(\"Continue finding the addresses of these: \" + chunks_in_text[3])},\n",
    "    ],\n",
    "    temperature=0.4,\n",
    ")\n",
    "response4"
   ]
  },
  {
   "cell_type": "code",
   "execution_count": 115,
   "id": "84e88818-beb9-4383-9439-dc0006f8e6aa",
   "metadata": {},
   "outputs": [
    {
     "name": "stdout",
     "output_type": "stream",
     "text": [
      "Prestige Import Group\t385 S. Leonard St, Waterbury, CT 06708\n",
      "Peter James Co.\t3400 11th St NW, Washington, DC 20010\n",
      "Lotus Group/Integral Logistics\t6500 NW 12th Ave #101, Fort Lauderdale, FL 33309\n",
      "Vertigo By Lotus\t6500 NW 12th Ave #101, Fort Lauderdale, FL 33309\n",
      "Maryland Match Corp\t11401 Cronridge Dr, Owings Mills, MD 21117\n",
      "Speedy Sweep inc\t1000 E Valencia Dr, Fullerton, CA 92831\n",
      "Laudisi Distribution Group\t550 Hwy 9 East, Longs, SC 29568\n",
      "Ningbo Smartist Import & Export Co LTD\tNo.168, Changyang Road, Hongtang Street, Jiangbei District, Ningbo, Zhejiang, China\n",
      "Innovative Brands\t1121 Industrial Pkwy N, Brunswick, OH 44212\n",
      "Prometheus International inc\t6231 Bandini Blvd, Los Angeles, CA 90040\n",
      "Lucky Sales Inc\t1930 S Susan St, Santa Ana, CA 92704\n",
      "Pinel Et Pinel\t22 Rue Royale, 75008 Paris, France\n",
      "Boveda Inc.\t10237 Yellow Circle Dr, Minnetonka, MN 55343\n",
      "Cigar Oasis\t64 Alpha Plaza, Hicksville, NY 11801\n",
      "Benchmark Humidors\tPO Box 129, St. Albans, MO 63073\n",
      "Case Elegance\tPO Box 2902, Issaquah, WA 98027\n",
      "Coles of London\t650 Miami Cir NE #700, Atlanta, GA 30324\n",
      "Rabbit Air\t5514 S Garfield Ave, Los Angeles, CA 90040\n",
      "RK Ventures Inc.\t2880 N Flowing Wells Rd, Tucson, AZ 85705\n",
      "Micallef Cigars\t1300 Summit Ave #170, Fort Worth, TX 76102\n",
      "Cigar Rights of America - CRA\t300 New Jersey Ave NW #900, Washington, DC 20001\n",
      "Intertabac Trade Show\tWestfalenhallen Dortmund GmbH, Rheinlanddamm 200, 44139 Dortmund, Germany\n",
      "Procigar\tAve. 27 de Febrero No. 211, Plaza Progreso, Local 2B, Santiago, Dominican Republic\n",
      "Operation: Cigars for Warriors\t8585 SW Hwy 200, Unit 16, Ocala, FL 34481\n",
      "Gnymble\t1 Broadway, Cambridge, MA 02142\n",
      "Minea Electrical Appliance Co LTD\tNo. 18, Yanshan Road, Yuyao, Ningbo, Zhejiang, China\n",
      "Avalara\t255 S King St #1800, Seattle, WA 98104\n",
      "Rueda Media LLC\tPO Box 1652, Sachse, TX 75048\n",
      "CubaOcho Museum\t1465 SW 8th St #106, Miami, FL 33135\n",
      "Craft, Inc\t91 Cypress St, Plymouth, MA 02360\n",
      "Air and Water Systems\t136 Knob Hill Rd, Mooresville, NC 28117\n",
      "TAC Water & Misting Systems\t5115 N 27th Ave, Phoenix, AZ 85017\n",
      "Cigars POS\t1300 Baxter St #454, Charlotte, NC 28204\n",
      "Premium Tobacco Payment Processing\t1 Bridge St #59, Irvington, NY 10533\n",
      "Cigar Rings\tAv. Bartolomé Colón #70, Santiago De Los Caballeros, Dominican Republic\n",
      "Cigar Journal, LLC\tHeiligenstädter Str. 6, 1190 Wien, Austria\n",
      "Cigar Specialist - DISSIM\tPO Box 152, Gilbert, AZ 85299\n"
     ]
    }
   ],
   "source": [
    "print(response4.choices[0].message.content)"
   ]
  },
  {
   "cell_type": "code",
   "execution_count": 119,
   "id": "d92463b5-30e6-4d21-be27-9a04c2613e98",
   "metadata": {},
   "outputs": [],
   "source": [
    "broadband_companies_no_addresses = [\"1 Tennessee broadband\", \"101Netlink\", \"101NETLINK\", \"123.NET, INC.\", \"123NET\", \"24-7 Telcom\", \"281 COMMUNICATIONS CORPORATION INC\", \"2PIFI\", \"3-GIS\", \"360 COMMUNICATIONS, INC.\", \"3E8 Broadband Solutions, LLC\", \"3M\", \"4 SIWI LLC\", \"4-County Fiber, LLC\", \"432 INTERNET\", \"4IP NEXSTREAM\", \"4NET, INC\", \"A-Web, Inc.\", \"AASBERG ALARM AS\", \"ABC COMMUNICATIONS\", \"ACADEMY TELECOM\", \"Acadiana Broadband LLC\", \"ACADIANA WIRELESS LLC\", \"ACCEL WIRELESS\", \"Access Cable Television, Inc.\", \"ACCESS OHIO VALLEY INTERNET\", \"ACCESSPARKS, LLC\", \"ACE Fiber\", \"ACN Communications Services LLC\", \"ADAK Eagle Enterprises, LLC\", \"Adams Cable Equipment\", \"Adams CATV, Inc\", \"Adams TelSystems Inc.\", \"Adcomm MDU Services, LLC\", \"Addison County Communications Union District\", \"ADRENALINE INTERNET\", \"ADTRAN, Inc.\", \"Advanced Communications Technology, Inc.\", \"Advanced Internet\", \"Advanced Network Communications, LLC\", \"Advanced Satellite Systems, Inc\", \"Advanced Stream, Inc.\", \"ADVANCED WIRELESS\", \"ADVANTENON, INC.\", \"AECOM Technical Services\", \"Aecon Construction Group Inc.\", \"Aeneas Internet and Telephone\", \"Aeronet Wireless Broadband LLC\", \"AERONET WIRELESS BROADBAND LLC\", \"AFL\", \"AFNET, LLC\", \"AIR ADVANTAGE\", \"Air Advantage, LLC\", \"AIR FIBER LLC\", \"AIR LINK RURAL BROADBAND, LLC\", \"AIR NET, LLC\", \"Air Voice Wireless\", \"Airbridge Broadband\", \"AirCell, Inc.\", \"AIRE COMMUNICATIONS GROUP, INC.\", \"AIRFIBER WISP\", \"Airlink Internet Services, LLC\", \"AIRONET\", \"AirVoice Wireless, LLC\", \"AirWay Technologies, Inc.\", \"AirWorks\", \"AIS CONSTRUCTION EQUIPMENT CORP - AIS CONSTRUCTION EQUIPMENT\", \"AJJ Satellite Services Inc.\", \"Alabama Power Company\", \"Alachua County BoCC\", \"ALAMO BROADBAND INC.\", \"ALASKA COMMUNICATIONS\", \"Alaska Communications Internet, LLC\", \"Alaska Power & Telephone\", \"ALE-NET INC.\", \"Algona Municipal Utilities\", \"AlignTec Incorporated\", \"ALIGNTEC INCORPORATED\", \"Alixpartners\", \"ALL POINTS BROADBAND\", \"All Points Broadband\", \"Allband Multimedia, LLC\", \"ALLDATA COMMUNICATIONS CORP.\", \"Allen's T.V. Cable Service, Inc.\", \"ALOHA BROADBAND\", \"Aloha Broadband Inc.\", \"Alpha Networks Corp\", \"ALPHANET CORP.\", \"ALSAT WIRELESS\", \"Alta Municipal Utilities\", \"Altafiber\", \"altafiber\", \"Altamaha Electric Membership Corp.\", \"Altamaha EMC\", \"Alternative Internet Resources 'AIR'\", \"Altice USA\", \"Altitude ISP\", \"Alyrica Networks Inc\", \"ALYRICA NETWORKS, INC\", \"AMARILLO WIRELESS\", \"American Assistance\", \"AMERICAN BROADBAND\", \"American Broadband & Telecommunications\", \"American Fiber Inc.\", \"American Products, LLC\", \"American Samoa Telecommunications Authority\", \"AMF Enterprises, LLC\", \"AmigoNet\", \"AMPLEX\", \"Amplex Internet\", \"AMT Advanced Media Technologies\", \"ANDALUSIA COMMUNITY INTERNET\", \"Andrena\", \"Angeles Enterprises Corp.\", \"Another Corporate ISP\", \"Anthem Broadband of Nevada\", \"Antietam Cable Television, LLC\", \"ANTS Technology, Inc.\", \"Aozora Devices, Inc.\", \"APPS COMMUNICATIONS\", \"Aptitude Internet\", \"Aptitude Internet, LLC\", \"ARBUCKLE COMMUNICATIONS, INC.\", \"ARISTOTLE INC.\", \"Aristotle Unified Communications\", \"Arizona Network LLC\", \"Arkansas Rural Internet Services, LLC\", \"Armstrong Telecommunications, Inc.\", \"AROOSTOOK TECHNOLOGIES\", \"ARTIC FIBER OPTIC LLC\", \"Arvig Enterprises, Inc.\", \"Ashe County Cable TV\", \"ASI NETWORKS\", \"ASK Telemarketing, Inc.\", \"Aspire Networks 1, LLC\", \"Assist Wireless\", \"Assurance Wireless\", \"AST Telecom, LLC\", \"ASTAC\", \"aSTEAM Village Inc.\", \"Astound Broadband powered by enTouch\", \"Astound Broadband powered by Grande\", \"Astound Broadband powered by RCN\", \"Astound Broadband powered by Wave\", \"At Link services, LLC\", \"AT&T\", \"AT&T Corp\", \"AT&T Mobility\", \"AT&T Mobility LLC\", \"ATC COMMUNICATIONS\", \"Atherton Fiber LLC\", \"Atkore, Inc.\", \"Atlantic Mobile US LLC\", \"Atlantic Telephone Membership\", \"ATLAS NETWORKS\", \"Atlink Services, LLC\", \"AU WIRELESS\", \"Auburn Essential Services\", \"Audeamus\", \"Automation Exchange Pty Ltd\", \"AWC, LLC\", \"AWI NETWORKS\", \"AXESS HIGH SPEED\", \"AZ AIRNET\", \"B2X Online, Inc.\", \"B2X ONLINE, INC.\", \"Babcock Enterprises LLC\", \"Back 2 Roots LLC\", \"BACK 40 WIRELESS\", \"Backbone Fiber Systems LLC\", \"Backcountry Broadband\", \"Backroads Broadband\", \"BALATIZE BROADBAND SERVICES LLC\", \"Balch & Bingham LLP\", \"BalsamWest\", \"BalsamWest FiberNET, L.L.C.\", \"BARConnects\", \"Bare Necessities LLC\", \"Barger Creek LLC\", \"Barry County Services Company\", \"Barry Technology Services, LLC\", \"Bartnet IP, LLC\", \"BAYFIELD WIRELESS\", \"BCI Mississippi Broadband, LLC\", \"BDA WIRELESS\", \"Beacon Broadband, Inc.\", \"BEAMSPEED\", \"Beamspeed LLC\", \"Beast Mobile Inc\", \"BEE CREEK COMMUNICATIONS\", \"Bee Line, Inc.\", \"BEH COMMUNICATIONS, LLC\", \"Bekaert Corporation\", \"Belhaven Cable TV Inc\", \"BELIEVE WIRELESS, LLC.\", \"BellSouth Telecommunications Inc\", \"Belzoni Cable, LLC\", \"Benton Cablevision Inc\", \"Benton Technical Services\", \"BerryComm LLC\", \"Bevcomm\", \"BHC\", \"Biarri Networks\", \"Biddeford Internet Company\", \"Big Dog Internet Puerto Rico LLC\", \"Big River Broadband, LLC\", \"BITS OF TECHNOLOGY WIRELESS INTERNET LLC\", \"BIZVOX COMMUNICATIONS\", \"Black & Veatch\", \"Black Bear Fiber (dba of Centre WISP Venture Company, LLC)\", \"Blackdragon Networks, LLC\", \"BLAST COMMUNICATIONS\", \"BLAZE BROADBAND\", \"Blazing Hog Inc.\", \"BLIP Networks, LLC\", \"BLIP NETWORKS, LLC\", \"BlocPower LLC\", \"Bloosurf LLC\", \"BLOUNT BROADBAND LLC\", \"Blountsvile Telephone LLC\", \"Blue Casa\", \"Blue Diamond Industries\", \"Blue Ridge Cable Technologies, Inc.\", \"Blue Ridge Internet Service Company, LLC\", \"Blue Ridge Mountain Electric Membership Corporation\", \"BLUE SPRING BROADBAND\", \"Blue Stream Communications, LLC\", \"BLUEBIT NETWORKS LLC\", \"Bluespan Wireless\", \"Board of Water, Light & Sinking Fund Commissioners of the City of Dalton, GA d/ba Dalton Utilities\", \"BOISEWIFI / IDAHO BROADBAND\", \"BOLT INTERNET\", \"Bonfire Fiber - Bonfire\", \"Boomerang Wireless\", \"Boomerang Wireless LLC\", \"Boomerang Wireless, LLC\", \"Bossier Parish Community College\", \"Bowling Green Municipal Utilities (BGMU), Fiber Division\", \"Boycom Cablevision Inc.\", \"BPS NETWORKS\", \"Bracken Cable Vision\", \"Brandenburg Telecom LLC\", \"BRAZOS WIFI\", \"Breezeline\", \"BRESCO SOLUTIONS, LLC\", \"BRIDGENET WIRELESS\", \"BRIDGER VALLEY ELECTRIC ASSOCIATION\", \"BrightRidge\", \"Brightspeed\", \"BRISCNET\", \"Bristol Bay Cellular\", \"Bristol Bay Telephone\", \"Bristol Tennessee Essential Services\", \"BROADBAND CORP\", \"BROADBAND VI\", \"Broadband VI, LLC\", \"BROADLINC COMMUNICATIONS\", \"Broadstaff\", \"BROADWAVE\", \"Broadway Telecom LLC\", \"BSPEEDY WIRELESS INC. (Aquired by Nextlink)\", \"Buckeye Cablevision, Inc.\", \"BUCKEYE WIRELESS INTERNET\", \"Buffalo Fiber\", \"Bug Tussel Wireless, LLC\", \"Building Our Future Communications, Inc.\", \"Bulloch County Rural Telephone Cooperative, Inc.\", \"BUNJUL\", \"Bush-Tell\", \"Byte Networking LLC\", \"C Spire\", \"C Spire Wireless\", \"C&C WIRELESS PUERTO RICO INC\", \"Cable Communications of Willsboro, Inc.\", \"CableSouth Media III, LLC\", \"CAJTEX COMMUNICATIONS, LLC\", \"Cajun Broadband Inc\", \"CAJUN BROADBAND INC\", \"CAL-ORE Telephone\", \"Cal.net\", \"CAL.NET, INC.\", \"CALIFORNIA BROADBAND SERVICES\", \"Calk Holdings, LLC\", \"Callabyte Technology, LLC\", \"CALPINEWIRELESS.COM\", \"Cam-Tel Company\", \"Cambridge Telcom Inc.\", \"Campus Communications Group Inc\", \"Canadian Fiber Optics Corp - CFOC\", \"Canby Telephone Association\", \"CANYON WIRELESS\", \"Cape Coral Florida\", \"CARBON CAPITAL\", \"Carbon Valley Internet, LLC\", \"Carlos Lugo Pacheco\", \"CarolinaConnect Cooperative\", \"CASAIR INC\", \"Cascade Utilities, Inc.\", \"Casey Mutual Telephone Co.\", \"Cass Cable TV, Inc.\", \"Catalina Broadband Solutions, LLC\", \"CBN\", \"CDE Lightband\", \"CEDAR MOUNTAIN CONNEX\", \"Cellco Partnership\", \"Cellcom\", \"CellSpan\", \"Cellspan Inc.\", \"CELLTEX NETWORKS, LLC\", \"Cellular Network Partnership\", \"Cellular South Licenses, LLC\", \"CellularOne\", \"CenCom, Inc.\", \"Center for Educational Leadership\", \"Centracom Interactive\", \"Central Access\", \"Central Connect, LLC\", \"Central Florida Broadband\", \"Central Virginia Services, Inc - Firefly Fiber Broadband\", \"Centre WISP Venture Company, LLC\", \"Centric Fiber, LLC\", \"CenturyLink\", \"CenturyLink-\", \"Certto\", \"Challenger Optics\", \"Champlain Broadband, LLC\", \"Channell Commercial Corporation\", \"Chaparral CableVision\", \"Chariton Valley Communications Corporation\", \"Chazy and Westport Telephone Corp.\", \"Chequamegon Communications Cooperative Inc\", \"Cherokee Cablevision, Inc.\", \"Cherry Capital Connection, LLC\", \"CHERRY CAPITAL CONNECTION, LLC\", \"Cheyenne River Sioux Tribe Telephone Authority\", \"Cheyenne River Sioux Tribe Telephone Authority - CRST Telephone Authority\", \"Chicopee Electric Light\", \"Chisholm Broadband, LLC\", \"Choctaw Nation of Oklahoma\", \"CHOCTAW TELEPHONE CO.\", \"CHOICE BROADBAND\", \"ChoiceLight, Inc.\", \"Choptank Fiber\", \"Choptank Fiber, LLC\", \"Christopher R. Gray DBA Hilltown Networks\", \"Chumash Enterprises\", \"Churchill County Tel and Tel System\", \"Ciena\", \"Cim Tel Cable, LLC\", \"CIRBN LLC\", \"CIRCLE COMPUTER RESOURCES\", \"Circle Telephone and Electric\", \"CIRRUS COMMUNICATIONS LLC\", \"Cisco\", \"CITIZENS COMMUNICATIONS CORP. BROADBAND/CITY OF SCOTTSBURG\", \"Citizens Telecom Solutions LLC\", \"Citizens Telecommunications company of Idaho, LLC\", \"Citizens Telecommunications Company of Montana, LLC\", \"Citizens Telecommunications Company of Oregon, LLC\", \"City of Barbourville\", \"City of Bardstown\", \"City of Coffeyville\", \"CITY OF COFFEYVILLE\", \"City of Fairlawn\", \"City of Faith Municipal Telephone Company\", \"City of Fort Collins\", \"City of Fort Dodge\", \"City of Hillsboro\", \"City of Ketchikan\", \"City of Longmont\", \"City of Longmont - NextLight\", \"City of Loveland\", \"City of Loveland - Pulse\", \"City of Marshall\", \"City of Morganton\", \"City of Moultrie\", \"City of Palo Alto\", \"City of Pella Telecommunications\", \"City of Pharr\", \"City of Pharr, TX\", \"City of Ponca City\", \"City of Russellville Electric Plant Board\", \"City of San Bruno\", \"City of Sherwood\", \"City of Sylvester\", \"City of Thomasville\", \"City of Wadsworth\", \"City of Wilson\", \"City of Wyandotte Department of Municipal Service\", \"CITYLINK WIRELESS, LLC\", \"Citynet West Virginia, LLC\", \"Cityside Fiber\", \"Clarity Telecom, LLC\", \"Clarity Wireless\", \"Clarksville Dept. of Electricity\", \"Clay County Connect, Inc.\", \"Clear Creek Broadband, LLC\", \"Clear Creek Mutual Telephone\", \"Clear Mobile, LLC\", \"ClearCom, Inc.\", \"Clearfield, Inc.\", \"Clearnetworx, LLC\", \"Clearsky Systems Inc.\", \"Clearwave Fiber\", \"CLIFTON COMMUNICATIONS, LLC\", \"CLOUD ALLIANCE\", \"Cloudburst 9, LLC\", \"CLOUDWYZE\", \"CloudWyze, Inc.\", \"CMN-RUS, Inc.\", \"CMS Internet LLC\", \"CMS INTERNET LLC\", \"CNI - Comtest Networks\", \"Co-Mo Comm, Inc.\", \"Coastal Electric Membership Corporation\", \"CoastConnect, LLC\", \"Coastline Wireless\", \"COASTSIDE.NET\", \"COBA SYSTEMS\", \"CoBridge Broadband, LLC\", \"COLLINS.NET\", \"Colorado Central Telecom, Inc.\", \"Columbia Energy, LLC\", \"Columbia Power and Water Systems\", \"Comcast Cable Communications, LLC\", \"Comcell Community Telephone\", \"Comlink Total Solutions Corp\", \"CommChoice of Iowa\", \"CommChoice of Iowa, LLC\", \"Commercial Connectivity Services, LLP\", \"Commnet Four Corners\", \"Commnet Four Corners, LLC\", \"Commnet of Nevada, LLC\", \"COMMON NETWORKS\", \"CommScope\", \"Communications of Fort Smith\", \"Community Cable and Broadband, LLC\", \"Community Cable Television Agency Of Obrien County\", \"Community Fiber Network LLC\", \"COMMUNITY INTERNET PROVIDERS\", \"Community Wireless of Charlestown, LLC\", \"CommunityNET, LLC\", \"COMMZOOM, LLC\", \"Compass Broadband Network, Inc.\", \"COMPLETE COMPUTERS\", \"Compudopt\", \"COMPUDYNE INC\", \"Computer Link Northwest LLC\", \"Computer Techniques, Inc.\", \"ComSouth Telenet, Inc.\", \"Concept Electronics\", \"Concord, Town of\", \"CONDUCT CONNECT LLC\", \"Conexon Connect LLC\", \"Confederated Tribes of Siletz Indians\", \"Congruex\", \"CONIFER COMMUNICATIONS, INC.\", \"Connect 2 First Internet, LLC\", \"Connect Us Wireless LLC\", \"CONNECT WITH ECHO\", \"Connect2First Internet, LLC\", \"Connectivity Solutions, LLC\", \"ConnectSCP, LLC - South Central Power Co.\", \"CONSOLIDATED BROADBAND SYSTEMS, LLC\", \"Consolidated Communications Enterprise Services, Inc.\", \"Consolidated Communications Networks, Inc.\", \"Consolidated Communications of California Company\", \"Consolidated Communications of Illinois Company\", \"CONSOLIDATED SMART SYSTEMS\", \"CONSOLIDATED TELCOM\", \"CONSULT DYNAMICS, INC./DCANET\", \"Continental Divide Electric Cooperative, Inc.\", \"ConVergence Technologies, Inc\", \"Cookson Hills Connect, LLC\", \"Coon Rapids Municipal Communications\", \"Cooperative Connection, LLC\", \"Coosa Valley Technologies, Inc.\", \"CORE BROADBAND\", \"Corning Incorporated\", \"COSMO NETWORK SOLUTIONS\", \"COUNTRY WIRELESS\", \"COUNTRYMEN COMMUNICATIONS\", \"Craig-Botetourt Energy and Home Services, LLC\", \"Creative Reliance Inc\", \"CresComm WiFi, LLC\", \"CRESCOMM WIFI, LLC\", \"Cribstone Communications, LLC\", \"Cricket Wireless LLC\", \"Critical Edge Inc\", \"Critical Hub Networks, Inc\", \"Cross Cable Television, LLC\", \"Cross Wireless, L.L.C.\", \"Cross-Valliant Cellular Partnership\", \"CROSSLINK NETWORKS\", \"CROSSROADS BROADBAND\", \"CROSSROADS WIFI\", \"Crow Creek Sioux Tribe\", \"Crown Castle\", \"Crowsnest Broadband LLC\", \"Cruzio\", \"Crystal Broadband Networks, Inc.\", \"CTC\", \"CTC Telcom, Inc.\", \"CTI Networks Inc.\", \"CUBAMOBILE, LLC\", \"Cullman Electric Cooperative\", \"Culture Wireless Group, LLC\", \"Culture Wireless LLC\", \"Cumberland Cellular, LLC\", \"Cumberland Connect\", \"CUSTER COUNTY (CO) LOCAL TECHNOLOGY PLANNING TEAM (LTPT)\", \"CVEC Fiber, LLC\", \"CYBER BROADBAND INC\", \"Cyient, Inc.\", \"Dailytel Inc.\", \"Dalton Utilities\", \"Data Net Systems\", \"Data Stream Broadband\", \"Daviess-Martin County Rural Telephone\", \"Daviess-Martin County Rural Telephone Corporation\", \"DayStarr LLC\", \"DC Access LLC\", \"DC BLOX\", \"DE Fastlink, LLC\", \"Declaration Networks (NeuBeam)\", \"DECLARATION NETWORKS GROUP INC\", \"Deepomatic\", \"DeepUp GmbH\", \"Delcom Inc\", \"Demopolis CA TV Company\", \"Dense Networks - Premier - North America\", \"DESERT INET, LLC\", \"Device Renew\", \"DFT Local Service Corporation\", \"Digicom Inc\", \"Digital Aid, LLC\", \"Digital Connections, Inc.\", \"DIGITAL DEVELOPMENT CORP.\", \"Digital Harbor Foundation\", \"Digital Network Access Communications, Inc.\", \"Digital Path, Inc.\", \"DIGITAL TECHNOLOGY SOLUTIONS INC\", \"DigitalC\", \"Dimelo Networks LLC\", \"dimex\", \"Diode Cable Co\", \"DIRECT DEALS CORP\", \"DIRECTV\", \"Dish Wireless LLC\", \"DIXIE-NET, INC.\", \"DJ ROB Enterprises\", \"DM Wireless, LLC\", \"DMCI Broadband LLC\", \"DMEA Utilities Services LLC\", \"Dobson Fiber - Dobson\", \"Docomo Pacific, Inc.\", \"DOOR COUNTY BROADBAND, LLC\", \"DOUBLE DOG COMMUNICATIONS\", \"Douglas Fast Net\", \"Dow\", \"DR INTERNET\", \"DSI, INC.\", \"DSLBYAIR, LLC\", \"DTC Cable INC\", \"Dunkirk and Fredonia Telephone Company\", \"Dura-Line Corporation\", \"Dycom Industries, Inc.\", \"E.L. Automation Inc.\", \"E.L. Automation, Inc.\", \"EAGLE ONE WIRELESS, LLC\", \"EagleZip.com LLC\", \"Earthlink, LLC\", \"East Arkansas Video Inc.\", \"East Ascension Telephone Company, LLC\", \"East Central Vermont Telecommunications District\", \"East Mississippi Connect, LLC\", \"East Texas Fiber Holdings\", \"Eastern Band of Cherokee Indians\", \"EASTERN CAROLINA BROADBAND\", \"Eastern Carolina Broadband, LLC\", \"EASTERN OREGON NET, INC.\", \"EASTERN SHORE COMMUNICATIONS\", \"Eastern Shore of Virginia Broadband Authority\", \"EASTERN TELEPHONE & TECHNOLOGIES\", \"EASTERN WIRELESS.CA INC\", \"Easton Utilities Commission\", \"Easy Telephone Service Company\", \"EBTX WIRELESS, LLC\", \"ECC TECHNOLOGIES\", \"Echo Technologies\", \"EchoNet Wireless Puerto Rico LLC\", \"Eco Services, LLC\", \"ECOMOBILE, INC.\", \"ECONNECT WIRELESS SOLUTIONS\", \"ECPI\", \"ECSIS.NET, LLC\", \"Edge Broadband\", \"Effective Systems Fiber Network\", \"Electric Plant Board of the City of Glasgow\", \"Electric Plant Board of the City of Hopkinsville\", \"Electric Plant Board Of The City Of Murray, Kentucky\", \"Electric Plant Board of the City of Paducah, Kentucky\", \"Electric Power Board of Chattanooga\", \"ELECTRONIC INNOVATIONS, INC\", \"ELECTRONICS SERVICE COMPANY\", \"ElektraFi, LLC\", \"ELEMENT WIRELESS\", \"Elevate Platforms, LLC\", \"ELEVATED NETWORKS LLC\", \"Elevation Broadband LLC\", \"Emerald Cable LLC\", \"EMERALD HARBOR COMMUNICATIONS\", \"Emery Telecom Video, LLC\", \"Empower Broadband, Inc\", \"ENCINA COMMUNICATIONS CORP.\", \"End-User Computing\", \"Enlightened By Woodruff Electric\", \"Ensure Optic Electronics Technology Limited\", \"enTouch Wireless\", \"EPB\", \"ePlus Technology\", \"Equal Net Mobile\", \"Erie County Cablevision, Inc,\", \"Esri\", \"etech parts\", \"Eternity Wireless\", \"Etheric Networks, Inc.\", \"ETHOPLEX\", \"EV Holdings 1 LLC\", \"Everywhere Wireless, LLC\", \"EVOLVE COMMUNICATIONS INC.\", \"eX² Technology, a Vivacity company - eX² Technology\", \"EXCEL.NET, INC.\", \"Excess Telecom, Inc.\", \"EXFO\", \"Express Cash And Phone, Inc.\", \"Express Dial Internet, Inc.\", \"Exwire, Inc.\", \"EZ Wave, Inc.\", \"FABRIC\", \"Falcon Broadband, LLC\", \"Falcon Wireless Direct\", \"FamilyNet\", \"FANGIO TELECOM\", \"Farmers and Merchant Mutual Telephone Company\", \"Farmers Mutual Communications\", \"Farmers Mutual Tel dba Heartland Technology\", \"Farmers Rural Connect\", \"Faster Cajun LLC\", \"FastMesh LLC\", \"Fatbeam, LLC\", \"FAYETTE HOLDINGS LIMITED\", \"FBN INDIANA\", \"Federated Rural Electric Association\", \"Fiber by Central Florida, LLC\", \"Fiber Communications of Columbus, LLC\", \"Fiber Connect LLC\", \"Fiber Fast Homes\", \"Fiber Optic Center, Inc.\", \"Fiber Optic Solutions\", \"FIBER STREAM\", \"FIBER WAVE, LLC\", \"FiberComm L.C.\", \"Fibercreek Networks, LLC\", \"FIBERLINK TELECOMMUNICATIONS, LLC\", \"Fiberspark Internet\", \"Fidelity Cablevision, LLC\", \"FIF AireBeam, LLC\", \"FIF St George LLC\", \"FIF Utah\", \"FIRE2WIRE\", \"First Light Fiber, LLC\", \"First Step Internet\", \"FIRST STEP INTERNET, LLC\", \"Fitchburg Fiber LLC\", \"Flint Cable TV, Inc.\", \"FloMobile Wireless Inc\", \"FLORIDA HIGH SPEED INTERNET\", \"Fluid-Blu Technologies\", \"FLUID-BLU TECHNOLOGIES DBA DM-TECH INTERNET\", \"Flume Internet, Inc.\", \"FMTC Wireless\", \"FMTC-I35, Inc.\", \"FMTC-SWT, Inc.\", \"Foothills Rural Telephone Coop. Corp., Inc.\", \"FORCE BROADBAND\", \"Forethought.net, Brainstorm Internet, San Isabel Telecom\", \"Forked Deer Connect\", \"Forsyth CableNet, LLC\", \"Fort Code, Inc.\", \"Fort Collins Connexion\", \"Fort Pierce Utilities Authority\", \"Foundation for California Community Colleges\", \"FOURSIGHT COMMUNICATIONS LLC\", \"FOURWAY COMPUTER PRODUCTS, INC.\", \"FRACTALVISION\", \"Franklin Telephone Co., Inc.\", \"Free Internet USA LLC\", \"FREEDOM BROADBAND\", \"Freedom Networks\", \"French Broad Electric Membership Corp\", \"French Broad EMC\", \"FRIENDS WITH BANDWIDTH, LLC\", \"Frontier Communications Northwest, LLC\", \"Frontier Communications of the South, LLC\", \"FURTHER REACH\", \"FURUKAWA ELECTRIC LATAM\", \"Future Broadband Inc.\", \"FUTURE LINK IT\", \"Fybe\", \"FyberCom\", \"FYBERCOM LLC\", \"G&B NETWORKS SOLUTIONS INC\", \"GAIA & SABER, LLC\", \"gaiia\", \"Galaxy Distribution LLC\", \"Gateway FIber\", \"Gateway Fiber Infrastructure, LLC\", \"GAZETTE RECORD INTERNET SERVICES\", \"Gen Mobile, Inc\", \"Genesis Technology Communication, LLC\", \"GENEVA ON-LINE, INC.\", \"Genexis Sweden AB\", \"Genuine Solutions\", \"Geograph Technologies, LLC\", \"GEOLINKS\", \"GEUS\", \"Gibson Electric Membership Corporation\", \"Giga Fibra\", \"GIGABEAM INTERNET\", \"GIGABEAM NETWORKS LLC\", \"GigaBeam Networks, LLC\", \"GIGAFY LLC\", \"Given Estates Inc. LLC\", \"GLDS\", \"Global Connection Inc. of America\", \"Global Connection of America\", \"GLOBALVISION\", \"GMN BROADBAND\", \"GMN Wireless Broadband\", \"GO MD USA LLC\", \"Go Technology Management, LLC\", \"Go!Foton\", \"GOLD RADIO GROUP LLC\", \"Gold Star Communications, LLC\", \"Goldfield Access Network\", \"Gonet\", \"GoNetspeed\", \"GoNetworkPR Inc\", \"Gonthier Inc.\", \"Google Fiber\", \"Google Fiber Inc.\", \"Gordon Cooper Technology Center\", \"Gorge Networks LLC\", \"GoSemo LLC\", \"GoTel LLC.\", \"GR8 CONNECT CORP.\", \"Grafton Technologies, Inc\", \"GRAND AVENUE BROADBAND\", \"GRAND COUNTY INTERNET SERVICES\", \"Grand River Mutual Telephone Corp.\", \"Granite State Telephone Inc.\", \"Grant PUD\", \"Graybar\", \"Great Lakes Data Racks and Cabinets\", \"Great Lakes Energy Connections, Inc\", \"Great Wireless, LLC\", \"Greeneville Energy Authority\", \"Greenfield Community Energy & Technology\", \"Greenlight Networks\", \"Gresham Smith\", \"Grice Enterprises LLC\", \"GRIZZLY BROADBAND\", \"Group Vertical\", \"Grundy Center Municipal Telephone\", \"GTEK COMPUTERS & WIRELESS\", \"Guadalupe Valley Communications Systems, L.P.\", \"Guadalupe Valley Electric Cooperative, Inc.\", \"Guthrie Telecommunications Network, Inc\", \"Guzzler Manufacturing\", \"GWI\", \"H & B Cable Service\", \"H&B Cable Services, Inc.\", \"Hadodo Wireless\", \"Haefele TV, Inc.\", \"Halff\", \"Halls Quality Communications Contracting LLC\", \"Hamilton Long Distance Company\", \"Hamilton.net Inc.\", \"Hancock Telecom\", \"HARD DRIVE ER, LLC\", \"Hargray of Alabama, Inc.\", \"Hargray of Georgia, Inc.\", \"Hargray, Inc.\", \"Harlan 2-Way Inc\", \"Harlan Municipal Utilities\", \"Harrison Edwards, Inc.\", \"Hartington Telecommunications Co., Inc.\", \"Hartman Telephone Exchanges, Inc.\", \"HarvestBeam Inc\", \"Hawaiian Telcom, Inc\", \"Hawk Networks Inc.\", \"Hayneville Fiber Transport, Inc.\", \"Haywire LLC\", \"HBE Internet\", \"HC Wireless, LLC\", \"HCQS\", \"Health Numeric LLC\", \"Heart of Iowa Ventures, LLC\", \"Heart of the Catskills Communications Inc.\", \"Hello Mobile Telecom LLC\", \"Henderson Municipal Power & Light - HMP&L\", \"Heritage Wireless Group, Inc.\", \"Hexagon Safety & Infrastructure\", \"Hexatronic\", \"HEXIS LLC\", \"HFCL\", \"Hiawatha Broadband Communications, Inc.\", \"HiCountryNet, LLC\", \"HIGH SPEED CROW, INC.\", \"Highland Internet Communications, LLC\", \"HILL COUNTRY BROADBAND\", \"HILLBILLY WIRELESS INTERNET\", \"Hillcom Inc\", \"HILLTOP BROADBAND\", \"HILLTOWN NETWORKS\", \"HIQ INTERNET\", \"HITEC\", \"Hitron Technologies Americas Inc.\", \"HNM Systems, INC\", \"Holland Board of Public Works\", \"HOMESMART BY SATELLITE STATION FIRE & SECURITY\", \"Honest Networks LLC\", \"Hood Canal Telephone Co., Inc\", \"Hood River Electric Co-op\", \"HookUp Cellular\", \"Hoop Wireless, LLC\", \"Hoopa Valley Public Utilities District\", \"Hope Community TV, INc.\", \"Horizon\", \"Horizon Cable TV, Inc.\", \"Horizon Satellite, LLC\", \"Hot Spot Broadband Inc.\", \"Hotspotpr Broadband Internet, LLC\", \"House Enterprises, Inc.\", \"HOWARD'S HIGHSPEED INC. (Changed name - Country Mile Wireless)\", \"HRCOM, INC.\", \"Hubbard Co-Op Telephone Assn.\", \"Hubbell Power Systems, Inc.\", \"HUDSON TECHNOLOGY SOLUTIONS, INC.\", \"HUDSON VALLEY WIRELESS\", \"Hughes Network Systems, LLC\", \"Hum\", \"human-I-T\", \"HunTel CableVision,Inc.\", \"Hunter Communications & Technologies LLC\", \"Hypercel\", \"HYPERWAVE\", \"I-Land Internet Services LLC\", \"i-wireless, LLC\", \"I.C.E.\", \"IdeaTek Telcom\", \"IdeaTek Telcom, LLC\", \"IDT Domestic Telecom, Inc.\", \"iFiber Communications, Corporation\", \"IFO TELECOM\", \"IGL TELECONNECT\", \"IgLou Internet Services\", \"iGo Technology Inc.\", \"IJ Wireless\", \"Illinois Electric Cooperative\", \"Illinois Valley Data Center, LLC\", \"IM Telecom, LLC\", \"Image Access, Inc.\", \"Imagine Networks\", \"IMAGINE NETWORKS\", \"Imcon International Inc. dba Rural 4G\", \"IMMCO, Inc\", \"IMPULSE ADVANCED COMMUNICATIONS\", \"IN THE STIX BROADBAND\", \"In The Stix Broadband LLC\", \"INA ISP\", \"Incab America\", \"InCoax Networks\", \"Incognito Software Systems Inc\", \"Independent Networks\", \"Independents Fiber Network\", \"Indian Wells Valley Internet Service Provider\", \"INDIANA WIRELESS INTERNET, LLC\", \"Indigo Telecom Group\", \"Infinium Broadband Internet\", \"Infostructure Inc.\", \"InfoWest, Inc\", \"INFOWEST, INC\", \"Infrastructure Ontario\", \"Injured Gadgets\", \"Inland Cellular\", \"Inland Cellular LLC\", \"Innet Connection Incorporated\", \"Innovative Financial Technologies\", \"Insight Mobile, Inc.\", \"Integrated Path Communications, LLC\", \"Integration Technologies, LLC\", \"INTEGRITY NETWORKS BROADBAND\", \"INTELLIGENT COMPUTING SOLUTIONS\", \"Intellipop\", \"INTELLIWAVE LLC\", \"Inter Mountain Cable Inc.\", \"INTERLAKES WIRELESS\", \"INTERNET AND COMMUNICATION ASSOCIATES OF NORTHERN MISSOURI\", \"INTERNET COMMUNICATIONS INC.\", \"Internet Consulting Services, LLC Hayley Van\", \"INTERNET MANAGEMENT SERVICES\", \"INTERNET OF THINGS AMERICA, LLC\", \"INTERNET SERVICES, LLC DBA HIGHERSPEED INTERNET\", \"Inventive Wireless of Nebraska\", \"INVISALINK WIRELESS\", \"IOT-WIFI, LLC\", \"Iowa Colocation Center, LLC\", \"IP Solutions Inc\", \"iPowerUp Inc\", \"IQ Fiber (DE), LLC\", \"IQ Fiber LLC\", \"IQGeo\", \"Irby\", \"Irvine Community Television\", \"Island Network, LLC\", \"Isofusion Inc\", \"ISOTECH, INC.\", \"ISP MANAGEMENT INC.\", \"ISP Management, Inc.\", \"ISP Supplies\", \"ISPN Network Services - ISPN\", \"IT Auditors PR, Corp.\", \"ITS Telecommunications Systems, Inc.\", \"iTV-3, LLC\", \"iZone Broadband LLC\", \"IZONE BROADBAND LLC\", \"J.E.D Enterprises\", \"JackRabbit Wireless, LLC\", \"Jackson Broadband, Inc\", \"Jackson County Rural Electric Membership Corporation\", \"JACKSON ELECTRIC COOPERATIVE\", \"Jackson Energy Authority\", \"James Valley Wireless, LLC\", \"JB-Nets Broadband Services\", \"JCMM Ventures, LLC\", \"JD Mobile\", \"JEA\", \"Jefferson State Broadband, Inc.\", \"JG Dish & Cellular Inc\", \"JMZ Corporation\", \"Jo-Carroll Energy, Inc.\", \"John R Guzzo, LLC\", \"Johnson City Energy Authority\", \"JOINK, LLC\", \"Jonard Tools\", \"Jordan Soldier Valley Telephone\", \"Jordan Soldier Valley Telephone Company\", \"Joyline Ltd\", \"JR Network PR LLC\", \"JTM Bradband, LLC\", \"JTN COMMUNICATIONS\", \"Julie M Gurman LLC\", \"JUMP WIRELESS LLC\", \"JWEMC COMMUNICATIONS, LLC\", \"K20 Wireless\", \"Kaniksu, LLC\", \"KanOkla Telephone Association\", \"Kasson & Mantorville Telephone Company\", \"Kayenta Technologies, LLC\", \"Kenneth G Myers Const. Co.,Inc\", \"Kennett Board of Public Works\", \"KENTUCKY WIMAX\", \"KEPS TECHNOLOGIES INC\", \"KGI COMMUNICATIONS\", \"KGPCo\", \"Kimberly F. Cosby DBA Idle Inn Wireless\", \"Kingsburg Media Foundation\", \"KINGSBURG MEDIA FOUNDATION\", \"KIOSK WIRELESS\", \"Kiowa Tribe\", \"Kit Carson Electric Cooperative, Inc\", \"Knology\", \"Knoxville Utilities Board\", \"KNR WIRELESS, LLC\", \"Kosciusko Connect, LLC\", \"KRAKR ENTERPRISES INC (Acquired)\", \"Kraus Electronic Systems, Inc.\", \"Kwikbit Inc.\", \"Kwikbit Internet\", \"Kwikbit Internet, Inc.\", \"KWIKOM COMMUNICATIONS\", \"KWOM INTERNET\", \"KYPRONET\", \"La Canada Wireless Association\", \"Lafayette City Parish Consolidated Government\", \"Lafayette Utilities System\", \"LaGrange County Rural Electric Membership Co\", \"Lake Bruin Wireless LLC\", \"LAKE COUNTRY SATELLITE, LLC\", \"Lake Region Technology & Communications, LLC\", \"LakeNet, LLC\", \"LAN COMMUNICATIONS CORP\", \"Lane Fi\", \"LAST MILE BROADBAND OF MARYLAND LLC\", \"LASVEGAS.NET, LLC\", \"Laurence B Glass\", \"Laurens Municipal Communications Utility\", \"LaZerArt, Inc.\", \"LBH, LLC\", \"LEAP COMMUNICATIONS, LLC\", \"Learning Alliance Corporation\", \"Lee Wireless, LLC\", \"Legacy ISP, LLC\", \"Legacy Risk Solutions\", \"Lehi City\", \"Lehigh Valley Co-op Telephone Assn\", \"Lehigh Valley Cooperative Telephone Assn.\", \"Leverage Broadband Strategies\", \"Liberty Broadband LLC\", \"Liberty Communications of Puerto Rico, LLC\", \"LIBERTY LINK\", \"Liberty Mobile Puerto Rico Inc.\", \"Liberty Mobile USVI Inc.\", \"Liberty Mobile Wireless\", \"LibertyX\", \"Life Wireless\", \"Life Wireless (ARKANSAS) BROADBAND\", \"Life Wireless (CALIFORNIA) BROADBAND\", \"Life Wireless (COLORADO) BROADBAND\", \"Life Wireless (INDIANA) BROADBAND\", \"Life Wireless (KANSAS)\", \"Life Wireless(ILLINOIS) BROADBAND\", \"Light Brigade\", \"LIGHTBEAM INTERNET\", \"LIGHTHOUSE.NET\", \"Lightspeed Services LLC\", \"Lightwave Communications, LLC\", \"Lightwheel Recruitment Advisors\", \"Limestone Cable Vision\", \"Limitless Mobile\", \"LINGO NETWORKS\", \"Linktel Telecomunicacoes do Brasil Ltda - Linktel WiFi\", \"Liquidity Services\", \"Lit Communities LLC\", \"LiteWire Internet Services, Inc.\", \"LitraMFG\", \"LITTLE APPLE TECHNOLOGIES\", \"Little Miam Gig LLC\", \"Live Wire Networks, Inc\", \"LIVEOAK FIBER, LLC\", \"LNC TECHNOLOGIES LLC\", \"Local Access Network LLC\", \"Local Internet Service Company, Inc.\", \"Local Linx\", \"LOCAL TV & ELECTRONICS, INC.\", \"LOCL.NET INC.\", \"Locrian Enterprises\", \"Lokket Inc.\", \"LONE PINE COMMUNICATIONS INC.\", \"Long Line Metro\", \"Long Lines Metro, LLC\", \"Long Lines Siouxland, LLC\", \"Loretel Systems, Inc.\", \"LOUISIANA INFORMATION TECHNOLOGY\", \"Louisiana Internet Technology LLC\", \"Loveis Corp\", \"LR COMMUNICATIONS\", \"LR COMMUNICATIONS, INC. (OF WYOMING)\", \"LTD BROADBAND\", \"LTE Wireless\", \"Lumen\", \"LUMEN Technologies, Inc.\", \"Luminate Fiber, LLC\", \"Lumos\", \"Lumos Telephone Inc.\", \"Lumos Telephone of Botetourt, Inc.\", \"LV.Net\", \"Lynches River Communications, Inc.\", \"M-22 INTERNET PROJECT, LLC\", \"M-Pulse Fiber, LLC\", \"M3 WIRELESS INC.\", \"MacLean Power Systems\", \"Magellan Advisors, LLC - Standard - North America\", \"Magnasoft Spatial Services Inc.\", \"Magnet Wireless, Inc.\", \"Mahaska Communication Group, LLC\", \"Mainstream Fiber Networks\", \"Mainstream Fiber Networks, LLC\", \"Mainstreet Communications Corporation\", \"Manchester-Hartland Telephone Company\", \"Manning Municipal Communications\", \"Mansfield Community Fiber Inc.\", \"MAPLE MOUNTAIN TECHNOLOGIES LLC\", \"Mapleton Communications Management Agency\", \"Maquoketa Valley Electric Cooperative\", \"MARCHNET\", \"Mark Twain Communications Company\", \"Marne and Elk Horn Telephone Company\", \"Marshall County Fiber, LLC\", \"Mashell Telecom, Inc.\", \"Massillon Cable TV, Inc.\", \"Matanuska Telephone Association\", \"Matanuska Telephone Association, Inc.\", \"MAX Broadband, LLC\", \"Maxsip Telecom Corporation\", \"MAXWIRE, INC.\", \"Mayfield Electric and Water System\", \"MCC Network Services, LLC\", \"MCEC Fiber Inc.\", \"Mcleanics Technology Corporation\", \"McMinnville Access Company\", \"Mears Group, Inc.|Broadband Division\", \"Media King Communications\", \"Mediacom LLC\", \"Mediacom LLC.\", \"Medicine Wheel Website Design, Inc.\", \"Medina Fiber\", \"Meeker Cooperative Light and Power Association\", \"MEGABITS, LLC\", \"Megapop\", \"Megatel Netcom Corporation\", \"MEI Telecom Inc.\", \"Mercury Network Corporation\", \"Mercury Wireless Indiana, LLC.\", \"Mercury Wireless Kansas, LLC.\", \"Meridiam\", \"Meriwether Lewis Connect, LLC\", \"Meta Mesh Wireless Communities\", \"METALINK TECHNOLOGIES, INC.\", \"Metro by T-Mobile\", \"Metro Communications LLC\", \"Metro Fibernet, LLC\", \"METRO WIRELESS INTERNATIONAL, INC.\", \"MetroNet\", \"METROPLEX COMMUNICATIONS, INC.\", \"METROPOLITAN CAPITAL INVESTMENTS\", \"MH Telecom LLC\", \"MHG Telco, LLC\", \"Miami Cass Rural Electric Member Cooperative\", \"MiBroadband, LLC\", \"MICHWAVE TECHNOLOGIES, INC.\", \"MICROLOGIC, INC\", \"Micronesian Telecommunications Coproration\", \"Mid-Hudson Cablevision\", \"Mid-Hudson Cablevision, Inc.\", \"Mid-Hudson Data Corp\", \"Mid-Maine Telecom LLC\", \"Mid-States Services, LLC\", \"MID-STATES SERVICES, LLC\", \"Midcontinent Communications\", \"MIDCONTINENT COMMUNICATIONS\", \"Midstates Data Transport\", \"MIDWEST CONNECTIONS, INC.\", \"Midwest Energy Cooperative\", \"MIDWEST TELECOM OF AMERICA, INC\", \"Mifflin County Wireless\", \"Mikrotec CATV, LLC\", \"MILE HIGH NETWORKS\", \"Miles Communications LLC\", \"Millennium Networks, LLC\", \"Milliken & Company\", \"MIMBRES COMMUNICATIONS, LLC\", \"MIMO KC\", \"MINNESOTA WIFI\", \"Mission Valley Communications, LLC\", \"Missouri RSA 5 Partnership\", \"MIWAVE\", \"MOBILCOMM INC. DBA HEAVENWIRE\", \"Mobile Defenders\", \"Mobius Communications Company\", \"MOBIUS INTERNET, IT & COMMUNICATIONS\", \"Mohawk Networks LLC\", \"Mohawk Networks, LLC\", \"MOJO BROADBAND\", \"Mokan Dial\", \"MOKAN DIAL INC.\", \"MONKEYBRAINS\", \"Monmouth Independence Network\", \"MONSTER BROADBAND INC\", \"Montana Internet Corporation\", \"Montana Opticom LLC\", \"Montana Sky Networks, Inc.\", \"MontanaSky West, LLC.\", \"MOOLAH WIRELESS\", \"MORNET COMMUNICATIONS\", \"Morristown Utility Systems\", \"Moultrie Independent Telephone Company\", \"Mound Bayou Telephone & Communications, Inc.\", \"Mountain Tower Network & Company, LLC\", \"MOUNTAIN WEST TECHNOLOGIES\", \"Mountain West Technologies Corporation\", \"MP Optical Communications Inc\", \"MS Wifi Zone Inc.\", \"MT Networks, LLC\", \"MTC TECHNOLOGIES\", \"Mud Lake Telephone\", \"Muenster Telephone Corporation of Texas\", \"Multilink Inc\", \"Muscatine Power & Water\", \"Muscogee (Creek) Nation Tribal Utility Authority - MCN TUA\", \"MYAKKA TECHNOLOGIES, INC.\", \"MYTALKUSA LLC\", \"Nae\", \"Nasircle Networks\", \"Nate's Access LLC\", \"NATEL\", \"National Telephone of Alabama, Inc.\", \"Native Network, Inc.\", \"NATIVE NETWORK, INC.\", \"Natural G.C. Inc.\", \"Natural State Wireless\", \"Natural Wireless LLC\", \"NatWireless, LLC\", \"Navigator Strategies, LLC\", \"NCI DATACOM\", \"NCI Datacom, Inc\", \"NCN DATA,LLC\", \"NCS TECHNOLOGIES\", \"NE Colorado Cellular, Inc\", \"NECTO INC.\", \"NEFCOM\", \"Nelson County Cablevision Corporation\", \"Nelsonville TV Cable Inc.\", \"Neptunomedia Inc.\", \"NET Broadband, LLC\", \"Netadmin Systems\", \"Netafy, Inc.\", \"netBlazr Inc.\", \"NETBLAZR INC.\", \"NETCON LLC\", \"Netspeed LLC\", \"Network Connex\", \"Nevada County Fiber\", \"New Cingular Wireless LLC\", \"New Cingular Wireless PSC, LLC\", \"New Hampshire Electric Cooperative, Inc\", \"New Lisbon Broadband and Communications\", \"New Source Broadband I LLC\", \"Newaygo County Regional Educational Service Agency\", \"Newmax, LLC\", \"NewPhone Wireless, LLC\", \"Newport Utilities\", \"Nex-Tech Wireless LLC\", \"Nexo Latam - Standard - Latin America\", \"Next-tech-\", \"NEXT, Powered by NAEC\", \"Nextab, LLC\", \"NextCity Networks\", \"Nextlink Internet\", \"Nez Perce Network Systems\", \"Niacom Holdings, LLC\", \"Nicholville Telco, LLC\", \"Nifinet Inc.\", \"NISC - Standard - North America\", \"NMSurf, Inc.\", \"NNTC Wireless, LLC\", \"NODE Networks LLC\", \"Nooksack Indian Tribe\", \"North Alabama Electric Coop\", \"North Alabama Electric Cooperative - NAEC\", \"North American Local, LLC\", \"North Central Kansas Community Network Co.\", \"North Coast Networks, LLC\", \"North East Fiber, LLC\", \"North End Woodward Community Coalition\", \"North State Communications Advanced Services, LLC\", \"NORTH WI FI PR\", \"Northcentral Connect, Inc.\", \"Northeast Iowa Telephone Company\", \"Northeast Rural Services, Inc.\", \"Northeast Wisconsin Technical College\", \"Northern Arapaho Tribal Industries, Inc.\", \"Northern Network Concepts, Inc.\", \"Northwest Community Communications, Inc.\", \"Northwest Iowa Telephone Company\", \"Northwest Telephone Cooperative Association\", \"Northwestern Indiana Telephone Co (NITCO)\", \"Northwestern Indiana Telephone Company, Inc.\", \"Norwood Municipal Light Department, Broadband Division\", \"Nova Wave Telecom LLC\", \"NT Spark, LLC\", \"NTInet Inc.\", \"NTUA Wireless, LLC\", \"Nushagak Cooperative\", \"Nushagak Electric & Telephone Cooperative\", \"NXXT Telecom LLC\", \"Ocamaster USA\", \"OEConnect, LLC\", \"OEM Source\", \"OemExperts\", \"OFS\", \"OGC Fiber Networks Lago Mar\", \"Ohio Transparent Telecom, Inc.\", \"Oklahoma Fiber Network, LLC\", \"Oklahoma Fiber, LLC\", \"OM Networks\", \"Omni Fiber\", \"Omni Fiber LLC\", \"Omnipoint Technology Inc.\", \"On Trac, Inc.\", \"Oneida County Rural Telephone Company\", \"Onlinet\", \"Ontronics\", \"Open Broadband, LLC\", \"Open Fiber USA\", \"OpenFiber USA\", \"OpenVault\", \"Orange City Communications, LLC\", \"Orange County Rural Electric Membership Corporation\", \"Orangeburg County, SC\", \"Orbitel Services, LLC\", \"OREGON FARMERS MUTUAL TEL CO. INC.\", \"Oregon-Idaho Utilities, Inc.\", \"Osage Municipal Communications Utilities\", \"Osage Municipal Utilities\", \"Osnet Wireless Corp.\", \"Oso Internet Solutions, LLC\", \"OSP Telecom Professionals LLC\", \"Otelco\", \"Otelco Mid-Missouri LLC\", \"Otelco Telephone LLC\", \"Outer Reach Broadband LLC\", \"Oxford West Telephone Co.\", \"Ozark Fiber, LLC\", \"OzarksGo\", \"OzarksGo, LLC\", \"Pacific Data Systems\", \"Pacific Lightwave, Inc.\", \"Padtec - Padtec\", \"Paladin Wireless\", \"Palmetto Telephone Communications, LLC\", \"Palomar Broadband, Inc.\", \"PanaSystem Corporation\", \"Panduit Corp.\", \"Panora Cooperative Cablevision Association, Inc\", \"Paradise Energy Solutions, LLC\", \"Paragould Light and Water Commission\", \"Pathfinder LLC\", \"Pathfinders USA Inc\", \"Pathway Com-Tel, Inc.\", \"PBG Fiber, LLC\", \"PCs for People\", \"PD Fiber, LLC\", \"Peeringhub Inc\", \"Pendleton Overground, LLC\", \"People's Choice Communications Inc\", \"Peoples Telecom, LLC\", \"Perry-Spencer Rural Telephone\", \"Perry-Spencer Rural Telephone Cooperative, Inc.\", \"Personal Network Computing Inc\", \"PES Energize\", \"Petit Jean Fiber, LLC\", \"PGEC Enterprises, LLC\", \"Phoenix Long Distance, Inc.\", \"Phoenix PCS\", \"Phone Club Corporation\", \"Pierce Pepin Cooperative Services\", \"Pine Belt Broadcasting, L.L.C.\", \"Pine Belt Cellular, Inc\", \"Pine Bluff Cable Television, Inc\", \"Pine Cellular Phones, Inc.\", \"Pinnacle Communications, Dobson Fiber\", \"PINPOINT AUBURN, INC.\", \"Pioneer Connect\", \"Pioneer Utility Resources, Inc. / WordSouth\", \"Pioneer Wireless, Inc.\", \"Plains Internet LLC\", \"Planet Networks Inc\", \"Plateau Telecommunications Incorporated\", \"Platinum Conect\", \"Plumas-Sierra Telecommunications\", \"Plume\", \"Plumettaz America Corp\", \"Point Broadband Fiber Holding, LLC\", \"Port Networks, Inc.\", \"Positron Access Solutions Corp\", \"Power & Tel\", \"PR WI-FI, INC\", \"Praxedo Corp\",\"Preformed Line Products\", \"Premier Connection\", \"Premier Holdings LLC\", \"Prentiss Electric Broadband, LLC\", \"Preseem\", \"ProCom Consulting\", \"Professional Value Internet Services, LLC\", \"Project Management Resource Group Corporation - PMRG Corp.\", \"Prosper Wireless, LLC\", \"PRWireless PR, LLC\", \"Prysmian Group\", \"PTI Pacifica Inc\", \"Public Utility District No. 1 of Jefferson County\", \"Public Utility District No. 1 of Okanogan County\", \"Public Wireless, LLC\", \"Pueblo of Jemez\", \"Pueblo of Laguna Utility Authority\", \"Pueblo of Santa Ana\", \"Pueblo of Santa Ana - POSA\", \"Pulaski Electric System\", \"Pulaski White Rural Telephone Cooperative\", \"Q Link Wireless\", \"Quanta Telecommunication Services, LLC\", \"R CRUZ RIOS\", \"R&M USA Inc.\", \"RAA Data Services, Inc.\", \"Rainier Connect North LLC\", \"Ranch Wifi\", \"Rapid Fiber Internet, LLC\", \"Ravalli Broadband LLC\", \"Raw Bandwidth Communications, Inc.\", \"RB3, LLC\", \"RC Wireless, Inc.\", \"Ready Wireless, LLC\", \"REAL Mobile, Inc.\", \"Red Pocket, Inc\", \"Red Spectrum Communications, LLC\", \"Redes Litorales, S.A. de C.V.\", \"Redzone Wireless LLC\", \"Reedsburg Utility Commission\", \"Regional Media Corporation, Inc.\", \"REHDER INVESTMENTS LLC\", \"Reinbeck Telecommunications Utility\", \"Render Networks\", \"ResiBridge, Inc.\", \"Resonance Broadband, LLC\", \"Resort Television Cable Company, Inc\", \"Resound Networks, LLC\", \"RG Fiber, LLC\", \"RHEMAFI, LLC\", \"Ridge Wireless LLC\", \"Rio Verde Wireless, LLC\", \"River Canyon Wireless\", \"RiverStreet Communications of North Carolina, Inc.\", \"Riverstreet Communications of Virginia, Inc.\", \"RiverStreet Wireless of Virginia, Inc.\", \"RiverWave LLC\", \"RM Greene, Inc\", \"ROAMR LLC\", \"Roanoke Connect Holdings, LLC\", \"Rock County Broadband Alliance LLC\", \"Rockstone Audio\", \"Rodeo Internet LLC\", \"Rogue Mobile Inc.\", \"Roosevelt County Rural Telephone Cooperative, Inc.\", \"Route 66 Broadband LLC\", \"RouteThis\", \"RS Fiber Cooperative\", \"RTA America, Inc.\", \"RTO Wireless, LLC\", \"Runestone Telephone Association\", \"Rural Connect, LLC\", \"Rural Gig LLC\", \"Rural Telephone\", \"Rural Telephone Service Co., Inc.\", \"S & T Telephone\", \"Saad Javed\", \"Sac and Fox Tribe of the Mississippi in Iowa\", \"Sacred Winds Communications, Inc.\", \"Safa Group Corp\", \"Safe Net Corp\", \"Safelink Internet LLC\", \"Safelink Wireless\", \"SafeLink Wireless\", \"Safetynet Wireless\", \"Sage Telecom Communications, LLC\", \"Sail Internet Inc.\", \"Sallisaw Municipal Authority\", \"Salsgiver\", \"San Juan Cable\", \"San Luis Valley Rural Electric Cooperative, Inc.\", \"Sandwich Isles Communications, Inc.\", \"Sano Health LLC\", \"Santee Sioux Nation\", \"Santo Domingo ISP\", \"Sarver Corporation\", \"SAS Electronics,Inc\", \"Satellite Works, LLC\", \"Sateo Inc.\", \"Satview Broadband, LTD\", \"Savage Communications Inc\", \"SBE NETWORKS INC\", \"SBE Networks Inc.\", \"SCATUI\", \"Scott County Telephone\", \"SCTelcom\", \"Secom, Inc\", \"SECOM, Inc\", \"Segra\", \"SEI Wireless\", \"Seimitsu / Turnkey Fiber Network\", \"Selectel, Inc.\", \"Sellenriek Construction, Inc\", \"SENKO Advanced Components, Inc.\", \"Sennco Solutions, Inc\", \"Sercomm\", \"Sertex Broadband Solutions\", \"Service Area 5 Cable, LLC\", \"Service Electric Cable TV Inc.\", \"Service Electric Cablevision, Inc.\", \"Setics\", \"Seven States Power Corporation\", \"Shelby Electric Cooperative\", \"Shellsburg Cablevision\", \"Shenandoah Cable Company\", \"SI Wireless\", \"Sierra Tel Internet\", \"SiFi Networks\", \"Signalnet Inc\", \"Silicon Harlem LLC\", \"Silver Star\", \"Silver Star Telecom\", \"SIMPLE CELLUTION LLC\", \"Simply Bits, LLC\", \"Singing River Connect, LLC\", \"Sitetracker\", \"Siyeh Communications\", \"Sjoberg's Inc.\", \"Sky Valley Network LLC\", \"Skybeam, LLC\", \"Skyde Solutions, Inc.\", \"SkyFiNet, LLC.\", \"SkyLine Telephone Membership Corporation\", \"Skynet Wireless LLC\", \"SKYNET360, LLC\", \"Skypacket Networks, Inc\", \"Skyrunner, Inc\", \"Skywave Wireless, Inc.\", \"SLIC Network Solutions, Inc.\", \"Smart City Telecommunications\", \"Smartcom Telephone, LLC\", \"SmarterBroadband LLC\", \"Smith Bagley, Inc\", \"Smyth Technology Group Inc.\", \"Snowcloud Services, LLC\", \"Socket Telecom LLC\", \"Solara Technical Sales\", \"Sonic Spectrum, Inc.\", \"Sonic.net, LLC.\", \"SonicNet, Inc\", \"Sound Internet Services, Inc.\", \"Sourcely Parts\", \"South Arkansas Telephone Company\", \"South Arkansas Telephone Company (SATCO)\", \"South Central Communications, Inc.\", \"South Central Connect\", \"South Central Indiana REMC\", \"South Central Indiana Rural Electric Membership Corporation\", \"South Central Rural Telecommunications\", \"South Central Telcom LLC\", \"South Central Utah Telephone Association, Inc.\", \"South Central Wireless, Inc.\", \"South Hadley Electric Light Department\", \"South Park L.L.C.\", \"South Park Telephone\", \"South Slope Cooperative Telephone Company\", \"South Valley Internet\", \"Southeastern IN Rural Telephone Cooperative\", \"Southern California Telephone Company\", \"Southern California Tribal Technologies, LLC\", \"Southern Fiber Worx, LLC\", \"Southern Inc.\", \"Southern Montana Tel. Co.\", \"Southern Ohio Communication Services, Inc.\", \"Southern Plains Cable, LLC\", \"Southern Tier Network, Inc.\", \"Southwest Arkansas Telecommunications and Technology Inc.\", \"Southwest Arkansas Telephone Cooperative, Inc.\", \"Southwest Michigan Communications, Inc.\", \"Southwest Telephone Exchange\", \"Southwest Texas Telephone Company\", \"Southwestern Bell Telephone Company\", \"Space Exploration Technologies Corp.\", \"Spanish Fork City\", \"Spanish Fork Community Network\", \"Sparklight\", \"Spectra Networks LLC\", \"Spectrum (Charter Communications Operating, LLC)\", \"Spencer Municipal Communications\", \"Spencer Municipal Communications Utility\", \"Spiral Internet\", \"SPITwSPOTS, Inc.\", \"Splash Wireless Internet, LLC\", \"Splitnorth LLC - Splitnorth\", \"Spokane Tribe of the Spokane Reservation\", \"Spot On Networks, LLC\", \"Spring City Cable TV, Inc.\", \"Spring Grove Communications\", \"Springville Co-operative Telephone Assn\", \"Springville Co-operative Telephone Association, Inc.\", \"SprintFone\", \"Spruce Knob Seneca Rocks Telephone, Inc.\", \"Spry Wireless Communications Inc.\", \"SQUAN\", \"Stake Center Locating\", \"Standing Rock Telecommunications, Inc\", \"StandUP Wireless\", \"Standup Wireless\", \"Starry, Inc\", \"StarVision, Inc\", \"Starwire Technologies, LLC\", \"Steelville Telephone Exchange, Inc.\", \"Stimulus Technologies of California, LLC\", \"Stimulus Technologies of Missouri, LLC\", \"STL\", \"STRATA Networks\", \"Strategic Telecom Supply & Solutions, LLC\", \"STW Electronics\", \"STX Group, LLC\", \"Subsector Solutions Corp.\", \"Succeed, Inc.\", \"Sully Telephone Association\", \"Sumitomo Electric Lightwave\", \"Summit Broadband\", \"Summit Internet\", \"SUMOFIBER LLC\", \"Sun Global Broadband LLC\", \"Sunset Digital Communications, LLC\", \"Superior Essex Communications\", \"Surf Air Wireless, LLC\", \"SurgePhone Wireless LLC\", \"Surry Telephone Membership Corporation\", \"SVE Connect LLC\", \"SW DinehNet LLC\", \"SWA CONNECT\", \"SWA Connect, LLC\", \"SWC Telesolutions\", \"SWCC Corporation\", \"Swyft Fiber\", \"SyncWave, LLC\", \"Syringa Wireless\", \"T-Mobile\", \"T-Wire Corporation\", \"Tachus Fiber Internet\", \"Tag Mobile\", \"TAG Mobile, LLC\", \"Tag Mobile, LLC\", \"Tahlequah Cable Television Co., Inc\", \"Tallahatchie Valley Internet Services, LLC\", \"TaosNet, LLC\", \"Tarana Wireless, Inc.\", \"Taunton Municipal Lighting Plant\", \"Taylor Warwick Consulting\", \"TC Telephone, LLC\", \"TDS Broadband Service LLC\", \"TDS Metrocom, LLC\", \"TDS Telecom/Arizona Telephone Company\", \"TDS Telecom/Butler Telephone Company, Inc.\", \"TDS Telecom/Camden Telephone and Telegraph Company, Inc.\", \"TDS Telecom/Camden Telephone Company, Inc.\", \"TDS Telecom/Cleveland County Telephone Company, Inc.\", \"TDS Telecom/Communication Corporation of Indiana\", \"TDS Telecom/Communication Corporation of Southern Indiana\", \"TDS Telecom/Decatur Telephone Company, Inc.\", \"TDS Telecom/Happy Valley Telephone Company\", \"TDS Telecom/Hornitos Telephone Company\", \"TDS Telecom/Oakman Telephone Company\", \"TDS Telecom/Peoples Telephone Company, Inc.\", \"TDS Telecom/Strasburg Telephone Company\", \"TDS Telecom/Tipton Telephone Company, Inc.\", \"TDS Telecom/Tri-County Communications Corporation\", \"TDS Telecom/West Point Telephone Company\", \"TDS Telecom/Winter Haven Telephone Company\", \"Te Conectamos LLC\", \"TEC – Cherokee Division\", \"TEC – Roanoke Division\", \"TEC of Jackson, Inc.\", \"TECHNOGENESIS - Computer Solutions\", \"TechSpec\", \"Tekify, LLC\", \"Tel-Star\", \"Tel-Star Communications of Florida Inc.\", \"TelAlaska’s Mukluk Telephone Company\", \"TeleCircuit\", \"Telecom Argentina S.A.\", \"Telecom Ventures, Inc.\", \"Telecon\", \"Teleguam Holdings, LLC\", \"Telepak Networks, Inc.\", \"Telephone Service Company\", \"Telnet USA, LLC\", \"Telrite Holdings Inc\", \"TELUS\", \"TELXP, LLC\", \"TEM 360 GLOBAL ENTERPRISE SOLUTIONS, LLC\", \"Tempo Telecom\", \"Tempo Telecom-\", \"Tempo Telecom, LLC\", \"Tennessee Valley Authority\", \"TEPA Connect, LLC\", \"TerraCom Wireless\", \"TerraCom, Inc\", \"Tesmec USA\", \"Texhoma Fiber, LLC\", \"Thackers-Grigsby Telephone Co., Inc.\", \"The Broadband Forum\", \"The Broadband Group\", \"The Butler Rural Electric Cooperative Association, Inc.\", \"The Community Agency\", \"The Electric and Water Plant Board of the City of Frankfurt, Kentucky\", \"The Electric Power Board of the City of Scottsboro\", \"The Farmers Mutual Telephone Company of Stanton, IA\", \"The Foerster Project LLC\", \"The Hinton Telephone Company of Hinton, Oklahoma Incorporated\", \"The Junction Internet\", \"The Laffoon Corporation\", \"The Livingston Telephone Company\", \"The Middleburgh Telephone Company\", \"The North-Eastern Pennsylvania Telephone Company\", \"The Park Region Mutual Telephone Company\", \"The Peoples Telephone Co. of Bigfork\", \"The Ponderosa Telephone Co.\", \"The Pottawatomie Telephone Co., L.L.C.\", \"The Smart Community Initiative, Inc.\", \"The Southern Kansas Telephone Co., Inc.\", \"Think Big Networks\", \"Third Base Internet LLC\", \"Thumb Electric Cooperative\", \"Tidewater Telecom, Inc\", \"TIERRE GROUP S.p.a.\", \"Tilson Technology Management, Inc.\", \"Ting Fiber\", \"Tipmont REMC\", \"TISD, Inc.\", \"Tishomingo Connect, LLC\", \"Titonka-Burt Communications\", \"TM Telecomm Corp\", \"Tohono O'odahm Utility Authority\", \"Tohono Oodham Utility Authority\", \"Tombigbee Fiber, LLC\", \"Tone Communication Services LLC\", \"Tongue River Cable TV Inc\", \"Torch Wireless\", \"Totah Communications\", \"Total Cable Solutions\", \"Total Highspeed LLC\", \"Total Net\", \"Town of Estes Park\", \"Town of Pineville\", \"Town of South Hadley\", \"TP-Link USA\", \"TracFone Wireless Inc.\", \"Trailrunner LLC\", \"Trailwave Fiber, Inc.\", \"Trans-Cascades Telephone Co.\", \"Trans-Video, Inc.\", \"TransWorld Network, Corp.\", \"TRAXyL, Inc.\", \"Trepic Networks\", \"Tri County Telephone Association, Inc.\", \"Tri Tower Telecom\", \"Tri-Co Connections, LLC\", \"Tri-Co Technologies, LLC\", \"Tri-County Communications Cooperative, Inc.\", \"Tri-County Electric Cooperative\", \"Tri-County Service Center Inc.\", \"Tri-County Telephone Association-\", \"Tri-County Telephone Membership Corp\", \"Triad Wireless, LLC\", \"TriCoLink, Inc.\", \"Trindom Global, LLC\", \"Triplet Mountain Communications, Inc.\", \"Tritech Wireless, LLC\", \"Troy Cablevision, Inc.\", \"Truconnect\", \"TruConnect\", \"True Wireless\", \"Truestream\", \"TruVista Communications, Inc. f/k/a The Chester Telephone Company\", \"TS Network Inc.\", \"TSC Inc.\", \"TSR ComSupply\", \"Tu CELPR\", \"Tularosa Basin Telephone Company\", \"Twin Lakes\", \"TWIN LAKES COMMUNICATIONS, INC\", \"Twin Lakes Telephone Cooperative Corporation\", \"Twin Valley Telephone, Inc\", \"Twin Valley-Ulen Telephone Co.\", \"U.S. Cellular\", \"U.S. Internet, Corp.\", \"Ubinet Corp.\", \"Ubiquity\", \"Uintah Basin Electronic Telecommunications, LLC\", \"Ultimate Internet Access, Inc.\", \"Underline El Paso, LLC\", \"Union Wireless\", \"United Communications Association, Inc.\", \"United Cooperative Electric Services, Inc.\", \"United Farmers Telephone\", \"United Farmers Telephone Co.\", \"United Services Inc.\", \"United States Cellular Corporation\", \"United Telephone Association-\", \"United Telephone Mutual Aid Corp\", \"United Utilities, Inc.\", \"UniTel, Inc\", \"Unity Wireless, Inc.\", \"Universal Network Development Corporation\", \"Unonet Corp\", \"Unwired Ltd.\", \"Uplink\", \"UpNet Wisconsin\", \"Uprise LLC\", \"Upward Mobile LLC\", \"Urban Networks Inc\", \"US Connect\", \"US WiFi, LLC\", \"UScellular\", \"USCOC of Cumberland, Inc.\", \"USCOC of Greater Oklahoma, LLC\", \"USHUAIA VISION SA\", \"USTC Corp\", \"Utilities Board City of Sylacauga\", \"Utilities Board of the City of Foley\", \"Utilities Kingston\", \"UTOPIA Fiber\", \"UVNV, Inc.\", \"V1 Fiber\", \"Vaix, Inc.\", \"Val-Ed Joint Venture LLP\", \"Valley Telecom Group\", \"Valley Telecommunications Cooperative Association Inc.\", \"Valu-Net LLC\", \"Van Horne Cooperative Telephone\", \"Vantage Point Solutions\", \"Varnet Inc\", \"Vasi and Associates Inc. - Vasi and Associates Inc.\", \"Vecima Networks Inc.\", \"Velociter Wireless, Inc.\", \"Velocity Network, Inc.\", \"Velocity.Net Communications, Inc.\", \"VelocityNet PR, LLC\", \"Velox\", \"VelozWireless\", \"Venus Telephone Corporation\", \"Verizon\", \"Verizon Delaware LLC\", \"Verizon Maryland LLC\", \"Verizon New England LLC\", \"Verizon New Jersey Inc\", \"Verizon New York\", \"Verizon North LLC\", \"Verizon Pennsylvania LLC\", \"Verizon South LLC\", \"Verizon Virginia LLC\", \"Verizon Washington DC Inc\", \"Vermeer Corporation\", \"Vermont RSA No. 2 B-2, Inc.\", \"Vero Broadband LLC\", \"VETRO FiberMap®\", \"Via Wireless, LLC\", \"Viaero Wireless\", \"Viasat, Inc.\", \"VIAVI SOLUTIONS\", \"Vicksburg Video, Inc\", \"Village of Yellow Springs\", \"Virginia Everywhere, LLC\", \"Virtual Bridge LLC\", \"Vision Net, Inc.\", \"Visionary Broadband\", \"Vitruvi Software\", \"Viya\", \"Viya Wireless\", \"Volcano Vision, Inc.\", \"VOLT MOBILE INC.\", \"VPNet, INc\", \"VTel Wireless, Inc.\", \"VTx1 Companies\", \"VVD Funding LLC\", \"Vyve Broadband J, LLC\", \"W. T. Services, Inc.\", \"W.A.T.C.H. TV Company\", \"Waitsfield-Fayston Telephone Co., Inc.\", \"Warm Springs Telecommunications Company\", \"Washington County Rural Telephone\", \"Washington Telco LLC\", \"WAV, LLC\", \"WAVE Rural Connect, LLC\", \"Wave Wireless LLC\", \"WaveMedia Telecom LLC\", \"Wavenet INC\", \"Wavenet, Inc\", \"Waverly Hall Telephone LLC\", \"Waverly Hall Telephone, LLC\", \"WCFIBER\", \"Webb-Dickens Telephone Corporation\", \"Webster-Calhoun Cooperative Telephone Association\", \"Wecom, Inc.\", \"WeConnect\", \"WeConnect Global\", \"Werks Mobile, LLC\", \"Wesco\", \"West Carolina Rural Telephone Coop., Inc.\", \"West Kentucky Rural Telephone Cooperative Corp., Inc.\", \"West Liberty Telephone Co\", \"West Wisconsin Telcom Cooperative, Inc\", \"Westell Technologies\", \"Western Iowa Telephone\", \"Western Iowa Wireless\", \"Western Wahkiakum County Telephone Company\", \"Westfield Gas & Electric\", \"Westfield Gas + Electric\", \"WestPAnet, Inc.\", \"Westside Independent Telephone Company\", \"Wheat State Telephone-\", \"Wheat State Telephone, Inc\", \"Whidbey Telecom\", \"White Cloud Communications US LLC\", \"White Cloud Technologies LLC\", \"White County Video, Inc\", \"Wholesale Gadget\", \"Whoop Connect Inc.\", \"WhyFly, LLC\", \"Wi-Fiber\", \"Wi-Fiber of Northern California, LLC\", \"WiaTel\", \"WideOpenWest Finance, LLC\", \"Wiggins Telephone Association\", \"Wikstrom Telephone Company, Incorporated\", \"Wilkes Telephone & Electric Company, Inc\", \"Wilkes Telephone and Electric Company\", \"Wilkes Telephone Membership Corp.\", \"Wilkes Telephone Membership Corporation\", \"Will Connect LLC\", \"Windbreak Cable LLC\", \"Windspeed Broadband, LLC\", \"Windstream\", \"Windstream Communications, LLC\", \"Windy City Cellular, LLC\", \"Winn Telephone\", \"Winnebago Cooperative Telecom Association\", \"Wired or Wireless, Inc.\", \"Wireless Brands Co\", \"Wireless Internet Corporation\", \"Wireless repair zone\", \"Wireless World, LLC\", \"WireStar, Inc.\", \"Wirex17\", \"Wiring the Future Networks\", \"WISP-IN Services Corporation\", \"Wisper ISP, LLC\", \"Wm Wireless, Inc.\", \"Wolf Line Construction Company\", \"Woodhull Community Telephone Company\", \"World Connection PR\", \"Worx Wireless, LLC\", \"WOW Cable - WOW\", \"WOW! Internet Cable and Phone\", \"Wrazzle, Inc.\", \"Wtechlink\", \"WV Airnet, LLC\", \"Wyyerd Connect LLC\", \"Wyyerd Pacific LLC\", \"XAirnet Corp.\", \"Xchange Telecom LLC\", \"XDar Wireless, LLC\", \"XIT Telecommunication & Technology, Ltd\", \"XMission\", \"Xtreme Enterprises, LLC\", \"Yadkin Valley Telephone Membership Corporation\", \"Yakama Nation Land Enterprise\", \"Yellowknife Wireless\", \"yondoo Broadband, LLC\", \"Younity Inc.\", \"Yourtel America\", \"Yukon-Kuskokwim Delta Tribal Broadband Consortia\", \"YUNGO\", \"Yurok Tribe of the Yurok Reservation\", \"Z1 Wireless\", \"Z3N, LLC\", \"ZCorum\", \"Zefcom, LLC\", \"Zetalink, LP\", \"Zinnia Networks Inc\", \"Ziply Fiber\", \"Zito Media, LP\", \"Zito West Holding, LLC\", \"Zoom Fiber Inc\", \"Zoom Telcom, LLC\", \"Ztar Mobile, Inc\", \"Zyxel Communications Inc.\"]"
   ]
  },
  {
   "cell_type": "code",
   "execution_count": 120,
   "id": "bf620932-c512-4557-80e9-3f491ba41c0e",
   "metadata": {},
   "outputs": [],
   "source": [
    "chunks_broadband = partition_contacts(broadband_companies_no_addresses)"
   ]
  },
  {
   "cell_type": "code",
   "execution_count": 122,
   "id": "d22f48bc-a623-42ff-84b1-0ad88d03b76a",
   "metadata": {},
   "outputs": [
    {
     "data": {
      "text/plain": [
       "13"
      ]
     },
     "execution_count": 122,
     "metadata": {},
     "output_type": "execute_result"
    }
   ],
   "source": [
    "len(chunks_broadband)"
   ]
  },
  {
   "cell_type": "code",
   "execution_count": 128,
   "id": "bbe01a63-6771-4b73-84f0-2b183698c634",
   "metadata": {},
   "outputs": [
    {
     "data": {
      "text/plain": [
       "['Verizon South LLC',\n",
       " 'Verizon Virginia LLC',\n",
       " 'Verizon Washington DC Inc',\n",
       " 'Vermeer Corporation']"
      ]
     },
     "execution_count": 128,
     "metadata": {},
     "output_type": "execute_result"
    }
   ],
   "source": [
    "chunks_broadband[12][:4]"
   ]
  },
  {
   "cell_type": "code",
   "execution_count": 129,
   "id": "44aa2f3b-3565-4bb1-9294-b5b9e2dd0e5c",
   "metadata": {},
   "outputs": [],
   "source": [
    "sample_question_to_assistant = [\"ATV Holdings, LLC\", \"CommSoft, Inc.\", \"Georgetown Telephone Company\", \"ICAN, Inc.\", \"Rural Communications Holding Corporation\"]\n",
    "sample_response_from_assistant = [\"1691 N. Main St Mitchell, SD 57301-1056\", \"96 Thompson Hill Road Rensselaer, NY 12144\", \"1154 Railroad Ave Georgetown, MS 39078-9701\", \"5 Research Ctr Marion, IA 52302-5868\", \"123 West 7th Street Blue Earth, MN 56013\"]"
   ]
  },
  {
   "cell_type": "code",
   "execution_count": 131,
   "id": "f09370e3-d8c5-40df-b6fd-2009ebed4391",
   "metadata": {},
   "outputs": [],
   "source": [
    "chunk1_text_broadband = \"\"\n",
    "for text_broadband_comp in chunks_broadband[0]:\n",
    "    chunk1_text_broadband += text_broadband_comp + \"\\n\";"
   ]
  },
  {
   "cell_type": "code",
   "execution_count": 137,
   "id": "25a5d957-d3b5-4c47-8884-c1f67a753dbb",
   "metadata": {},
   "outputs": [],
   "source": [
    "def arrayToTextList(arrayToText):\n",
    "    text_list = \"\"\n",
    "    for text_element in arrayToText:\n",
    "        text_list += text_element + \"\\n\";\n",
    "    return text_list"
   ]
  },
  {
   "cell_type": "code",
   "execution_count": 139,
   "id": "51114ffb-f2e5-43ae-9945-6bca947818b7",
   "metadata": {},
   "outputs": [],
   "source": [
    "sample_question_to_assistant = arrayToTextList([\"ATV Holdings, LLC\", \"CommSoft, Inc.\", \"Georgetown Telephone Company\", \"ICAN, Inc.\", \"Rural Communications Holding Corporation\"])\n",
    "sample_response_from_assistant = arrayToTextList([\"1691 N. Main St Mitchell, SD 57301-1056\", \"96 Thompson Hill Road Rensselaer, NY 12144\", \"1154 Railroad Ave Georgetown, MS 39078-9701\", \"5 Research Ctr Marion, IA 52302-5868\", \"123 West 7th Street Blue Earth, MN 56013\"])"
   ]
  },
  {
   "cell_type": "code",
   "execution_count": 141,
   "id": "555d4703-1bde-49ba-ba80-1a08d07a4389",
   "metadata": {},
   "outputs": [
    {
     "name": "stdout",
     "output_type": "stream",
     "text": [
      "ATV Holdings, LLC\n",
      "CommSoft, Inc.\n",
      "Georgetown Telephone Company\n",
      "ICAN, Inc.\n",
      "Rural Communications Holding Corporation\n",
      "\n"
     ]
    }
   ],
   "source": [
    "print(sample_question_to_assistant)"
   ]
  },
  {
   "cell_type": "code",
   "execution_count": 142,
   "id": "d86b0725-70b4-4263-92db-0b904d738b14",
   "metadata": {},
   "outputs": [
    {
     "data": {
      "text/plain": [
       "<OpenAIObject chat.completion id=chatcmpl-8AMiSMIL8vzi6VQ87d32va9qLV8FS at 0x146efdc3f50> JSON: {\n",
       "  \"id\": \"chatcmpl-8AMiSMIL8vzi6VQ87d32va9qLV8FS\",\n",
       "  \"object\": \"chat.completion\",\n",
       "  \"created\": 1697481292,\n",
       "  \"model\": \"gpt-4-0613\",\n",
       "  \"choices\": [\n",
       "    {\n",
       "      \"index\": 0,\n",
       "      \"message\": {\n",
       "        \"role\": \"assistant\",\n",
       "        \"content\": \"1 Tennessee Broadband: 5016 Centennial Blvd, Nashville, TN 37209\\n101Netlink: 101 E Locust St, Watseka, IL 60970\\n123.NET, INC.: 24700 Northwestern Hwy, Southfield, MI 48075\\n24-7 Telcom: 505 S Main St, Menomonie, WI 54751\\n281 Communications Corporation Inc: 201 East Second Street, Alice, TX 78332\\n2PIFI: 301 McCullough Dr #400, Charlotte, NC 28262\\n3-GIS: 350 Market St NE, Decatur, AL 35601\\n360 Communications, Inc.: 360 N Michigan Ave, Chicago, IL 60601\\n3E8 Broadband Solutions, LLC: 1800 Bering Dr, Houston, TX 77057\\n3M: 2501 Hudson Rd, Maplewood, MN 55144\\n4 SIWI LLC: 1000 N West St, Wilmington, DE 19801\\n4-County Fiber, LLC: 9776 US-45 ALT, West Point, MS 39773\\n432 Internet: 432 S Emerson Ave, Greenwood, IN 46143\\n4IP NEXSTREAM: 12303 Airport Way, Broomfield, CO 80021\\nA-Web, Inc.: 101 N Main St, Culver, IN 46511\\nAASBERG ALARM AS: 123 N Main St, Culver, IN 46511\\nABC Communications: 2088 Paul Bunyan Rd, Susanville, CA 96130\\nAcademy Telecom: 123 N Main St, Culver, IN 46511\\nAcadiana Broadband LLC: 101 N Main St, Culver, IN 46511\\nAccess Cable Television, Inc.: 101 N Main St, Culver, IN 46511\\nAccess Ohio Valley Internet: 101 N Main St, Culver, IN 46511\\nAccessParks, LLC: 101 N Main St, Culver, IN 46511\\nACE Fiber: 101 N Main St, Culver, IN 46511\\nACN Communications Services LLC: 1000 Progress Pl, Concord, NC 28025\\nAdak Eagle Enterprises, LLC: 1000 Progress Pl, Concord, NC 28025\\nAdams Cable Equipment: 1000 Progress Pl, Concord, NC 28025\\nAdams CATV, Inc: 1000 Progress Pl, Concord, NC 28025\\nAdams TelSystems Inc.: 1000 Progress Pl, Concord, NC 28025\\nAdcomm MDU Services, LLC: 1000 Progress Pl, Concord, NC 28025\\nAddison County Communications Union District: 1590 VT-30, Cornwall, VT 05753\\nADRENALINE INTERNET: 1590 VT-30, Cornwall, VT 05753\\nADTRAN, Inc.: 901 Explorer Blvd NW, Huntsville, AL 35806\\nAdvanced Communications Technology, Inc.: 1590 VT-30, Cornwall, VT 05753\\nAdvanced Internet: 1590 VT-30, Cornwall, VT 05753\\nAdvanced Network Communications, LLC: 1590 VT-30, Cornwall, VT 05753\\nAdvanced Satellite Systems, Inc: 1590 VT-30, Cornwall, VT 05753\\nAdvanced Stream, Inc.: 1590 VT-30, Cornwall, VT 05753\\nADVANCED WIRELESS: 1590 VT-30, Cornwall, VT 05753\\nADVANTENON, INC.: 1590 VT-30, Cornwall, VT 05753\\nAECOM Technical Services: 1590 VT-30, Cornwall, VT 05753\\nAecon Construction Group Inc.: 20 Carlson Ct #800, Etobicoke, ON M9W 7K6, Canada\\nAeneas Internet and Telephone: 300 N Cumberland St, Jackson, TN 38301\\nAeronet Wireless Broadband LLC: 1590 VT-30, Cornwall, VT 05753\\nAFL: 170 Ridgeview Center Dr, Duncan, SC 29334\\nAFNET, LLC: 170 Ridgeview Center Dr, Duncan, SC 29334\\nAIR ADVANTAGE: 170 Ridgeview Center Dr, Duncan, SC 29334\\nAir Advantage, LLC: 465 N Franklin St, Frankenmuth, MI 48734\\nAIR FIBER LLC: 170 Ridgeview Center Dr, Duncan, SC 29334\\nAIR LINK RURAL BROADBAND, LLC: 170 Ridgeview Center Dr, Duncan, SC 29334\\nAIR NET, LLC: 170 Ridgeview Center Dr, Duncan, SC 29334\\nAir Voice Wireless: 2425 Franklin Rd, Bloomfield Hills, MI 48302\\nAirbridge Broadband: 170 Ridgeview Center Dr, Duncan, SC 29334\\nAirCell, Inc.: 1250 N Arlington Heights Rd #500, Itasca, IL 60143\\nAIRE COMMUNICATIONS GROUP, INC.: 1250 N Arlington Heights Rd #500, Itasca, IL 60143\\nAIRFIBER WISP: 1250 N Arlington Heights Rd #500, Itasca, IL 60143\\nAirlink Internet Services, LLC: 1250 N Arlington Heights Rd #500, Itasca, IL 60143\\nAIRONET: 1250 N Arlington Heights Rd #500, Itasca, IL 60143\\nAirVoice Wireless, LLC: 2425 Franklin Rd, Bloomfield Hills, MI 48302\\nAirWay Technologies, Inc.: 1250 N Arlington Heights Rd #500, Itasca, IL 60143\\nAirWorks: 1250 N Arlington Heights Rd #500, Itasca, IL 60143\\nAIS CONSTRUCTION EQUIPMENT CORP - AIS CONSTRUCTION EQUIPMENT: 3600 N Grand River Ave, Lansing, MI 48906\\nAJJ Satellite Services Inc.: 3600 N Grand River Ave, Lansing, MI 48906\\nAlabama Power Company: 600 18th St N, Birmingham, AL 35203\\nAlachua County BoCC: 12 SE 1st St, Gainesville, FL 32601\\nALAMO BROADBAND INC.: 9200 Broadway St #100, San Antonio, TX 78217\\nALASKA COMMUNICATIONS: 600 Telephone Ave, Anchorage, AK 99503\\nAlaska Communications Internet, LLC: 600 Telephone Ave, Anchorage, AK 99503\\nAlaska Power & Telephone: 193 Otto St, Port Townsend, WA 98368\\nALE-NET INC.: 193 Otto St, Port Townsend, WA 98368\\nAlgona Municipal Utilities: 104 W Call St, Algona, IA 50511\\nAlignTec Incorporated: 104 W Call St, Algona, IA 50511\\nAlixpartners: 909 3rd Ave, New York, NY 10022\\nALL POINTS BROADBAND: 20130 Lakeview Center Plaza #400, Ashburn, VA 20147\\nAll Points Broadband: 20130 Lakeview Center Plaza #400, Ashburn, VA 20147\\nAllband Multimedia, LLC: 20130 Lakeview Center Plaza #400, Ashburn, VA 20147\\nALLDATA COMMUNICATIONS CORP.: 20130 Lakeview Center Plaza #400, Ashburn, VA 20147\\nAllen's T.V. Cable Service, Inc.: 20130 Lakeview Center Plaza #400, Ashburn, VA 20147\\nALOHA BROADBAND: 20130 Lakeview Center Plaza #400, Ashburn, VA 20147\\nAloha Broadband Inc.: 20130 Lakeview Center Plaza #400, Ashburn, VA 20147\\nAlpha Networks Corp: 20130 Lakeview Center Plaza #400, Ashburn, VA 20147\\nALPHANET CORP.: 20130 Lakeview Center Plaza #400, Ashburn, VA 20147\\nALSAT WIRELESS: 20130 Lakeview Center Plaza #400, Ashburn, VA 20147\\nAlta Municipal Utilities: 223 S Main St, Alta, IA 51002\\nAltafiber: 223 S Main St, Alta, IA 51002\\nAltamaha Electric Membership Corp.: 611 W Pine St, Jesup, GA 31545\\nAltamaha EMC: 611 W Pine St, Jesup, GA 31545\\nAlternative Internet Resources 'AIR': 611 W Pine St, Jesup, GA 31545\\nAltice USA: 1 Court Square W, Long Island City, NY 11101\\nAltitude ISP: 1 Court Square W, Long Island City, NY 11101\\nAlyrica Networks Inc: 521 N 19th St, Philomath, OR 97370\\nALYRICA NETWORKS, INC: 521 N 19th St, Philomath, OR 97370\\nAMARILLO WIRELESS: 521 N 19th St, Philomath, OR 97370\\nAmerican Assistance: 521 N 19th St, Philomath, OR 97370\\nAMERICAN BROADBAND: 521 N 19th St, Philomath, OR 97370\\nAmerican Broadband & Telecommunications: 521 N 19th St, Philomath, OR 97370\\nAmerican Fiber Inc.: 521 N 19th St, Philomath, OR 97370\\nAmerican Products, LLC: 521 N 19th St, Philomath, OR 97370\\nAmerican Samoa Telecommunications Authority: 521 N 19th St, Philomath, OR 97370\\nAMF Enterprises, LLC: 521 N 19th St, Philomath, OR 97370\\nAmigoNet: 521 N 19th St, Philomath, OR 97370\\nAMPLEX: 521 N 19th St, Philomath, OR 97370\\nAmplex Internet: 22690 Pemberville Rd, Luckey, OH 43443\\nAMT Advanced Media Technologies: 22690 Pemberville Rd, Luckey, OH 43443\\nANDALUSIA COMMUNITY INTERNET: 22690 Pemberville Rd, Luckey, OH 43443\\nAndrena: 22690 Pemberville Rd, Luckey, OH 43443\\nAngeles Enterprises Corp.: 22690 Pemberville Rd, Luckey, OH 43443\\nAnother Corporate ISP: 22690 Pemberville Rd, Luckey, OH 43443\\nAnthem Broadband of Nevada: 22690 Pemberville Rd, Luckey, OH 43443\\nAntietam Cable Television, LLC: 1000 Willow Cir, Hagerstown, MD 21740\\nANTS Technology, Inc.: 1000 Willow Cir, Hagerstown, MD 21740\\nAozora Devices, Inc.: 1000 Willow Cir, Hagerstown, MD 21740\\nAPPS COMMUNICATIONS: 1000 Willow Cir, Hagerstown, MD 21740\\nAptitude Internet: 1000 Willow Cir, Hagerstown, MD 21740\\nAptitude Internet, LLC: 1000 Willow Cir, Hagerstown, MD 21740\\nARBUCKLE COMMUNICATIONS, INC.: 1000 Willow Cir, Hagerstown, MD 21740\\nARISTOTLE INC.: 1000 Willow Cir, Hagerstown, MD 21740\\nAristotle Unified Communications: 401 W Capitol Ave #700, Little Rock, AR 72201\\nArizona Network LLC: 401 W Capitol Ave #700, Little Rock, AR 72201\\nArkansas Rural Internet Services, LLC: 401 W Capitol Ave #700, Little Rock, AR 72201\\nArmstrong Telecommunications, Inc.: 1 Armstrong Pl, Butler, PA 16001\\nAROOSTOOK TECHNOLOGIES: 1 Armstrong Pl, Butler, PA 16001\\nARTIC FIBER OPTIC LLC: 1 Armstrong Pl, Butler, PA 16001\\nArvig Enterprises, Inc.: 150 2nd St SW, Perham, MN 56573\\nAshe County Cable TV: 150 2nd St SW, Perham, MN 56573\\nASI NETWORKS: 150 2nd St SW, Perham, MN 56573\\nASK Telemarketing, Inc.: 150 2nd St SW, Perham, MN 56573\\nAspire Networks 1, LLC: 150 2nd St SW, Perham, MN 56573\\nAssist Wireless: 150 2nd St SW, Perham, MN 56573\\nAssurance Wireless: 150 2nd St SW, Perham, MN 56573\\nAST Telecom, LLC: 150 2nd St SW, Perham, MN 56573\\nASTAC: 4300 B St #501, Anchorage, AK 99503\\naSTEAM Village Inc.: 4300 B St #501, Anchorage, AK 99503\\nAstound Broadband powered by enTouch: 4300 B St #501, Anchorage, AK 99503\\nAstound Broadband powered by Grande: 4300 B St #501, Anchorage, AK 99503\\nAstound Broadband powered by RCN: 4300 B St #501, Anchorage, AK 99503\\nAstound Broadband powered by Wave: 4300 B St #501, Anchorage, AK 99503\\nAt Link services, LLC: 4300 B St #501, Anchorage, AK 99503\\nAT&T: 208 S Akard St, Dallas, TX 75202\\nAT&T Corp: 208 S Akard St, Dallas, TX 75202\\nAT&T Mobility: 208 S Akard St, Dallas, TX 75202\\nAT&T Mobility LLC: 208 S Akard St, Dallas, TX 75202\\nATC COMMUNICATIONS: 208 S Akard St, Dallas, TX 75202\\nAtherton Fiber LLC: 208 S Akard St, Dallas, TX 75202\\nAtkore, Inc.: 16100 S Lathrop Ave, Harvey, IL 60426\\nAtlantic Mobile US LLC: 16100 S Lathrop Ave, Harvey, IL 60426\\nAtlantic Telephone Membership: 16100 S Lathrop Ave, Harvey, IL 60426\\nATLAS NETWORKS: 16100 S Lathrop Ave, Harvey, IL 60426\\nAtlink Services, LLC: 16100 S Lathrop Ave, Harvey, IL 60426\\nAU WIRELESS: 16100 S Lathrop Ave, Harvey, IL 60426\\nAuburn Essential Services: 16100 S Lathrop Ave, Harvey, IL 60426\\nAudeamus: 16100 S Lathrop Ave, Harvey, IL 60426\\nAutomation Exchange Pty Ltd: 16100 S Lathrop Ave, Harvey, IL 60426\\nAWC, LLC: 16100 S Lathrop Ave, Harvey, IL 60426\\nAWI NETWORKS: 16100 S Lathrop Ave, Harvey, IL 60426\\nAXESS HIGH SPEED: 16100 S Lathrop Ave, Harvey, IL 60426\\nAZ AIRNET: 16100 S Lathrop Ave, Harvey, IL 60426\\nB2X Online, Inc.: 16100 S Lathrop Ave, Harvey, IL 60426\\nB2X ONLINE, INC.: 16100 S Lathrop Ave, Harvey, IL 60426\\nBabcock Enterprises LLC: 16100 S Lathrop Ave, Harvey, IL 60426\\nBack 2 Roots LLC: 16100 S Lathrop Ave, Harvey, IL 60426\\nBACK 40 WIRELESS: 16100 S Lathrop Ave, Harvey, IL 60426\\nBackbone Fiber Systems LLC: 16100 S Lathrop Ave, Harvey, IL 60426\\nBackcountry Broadband: 16100 S Lathrop Ave, Harvey, IL 60426\\nBackroads Broadband: 16100 S Lathrop Ave, Harvey, IL 60426\\nBALATIZE BROADBAND SERVICES LLC: 16100 S Lathrop Ave, Harvey, IL 60426\\nBalch & Bingham LLP: 16100 S Lathrop Ave, Harvey, IL 60426\\nBalsamWest: 16100 S Lathrop Ave, Harvey, IL 60426\"\n",
       "      },\n",
       "      \"finish_reason\": \"stop\"\n",
       "    }\n",
       "  ],\n",
       "  \"usage\": {\n",
       "    \"prompt_tokens\": 1194,\n",
       "    \"completion_tokens\": 3533,\n",
       "    \"total_tokens\": 4727\n",
       "  }\n",
       "}"
      ]
     },
     "execution_count": 142,
     "metadata": {},
     "output_type": "execute_result"
    }
   ],
   "source": [
    "response_broadband_1 = openai.ChatCompletion.create(\n",
    "    model=\"gpt-4\",\n",
    "    messages=[\n",
    "        {\"role\": \"system\", \"content\": \"You are a maps app that gives non-real time information and precise addresses of broadband companies. You only give the address and no other wordy descriptions.\"},\n",
    "        {\"role\": \"user\", \"content\": sample_question_to_assistant},\n",
    "        {\"role\": \"assistant\", \"content\":sample_response_from_assistant},\n",
    "        {\"role\": \"user\", \"content\": str(chunk1_text_broadband)},\n",
    "    ],\n",
    "    temperature=0.4,\n",
    ")\n",
    "response_broadband_1"
   ]
  },
  {
   "cell_type": "code",
   "execution_count": 143,
   "id": "716cdd98-0316-4ab2-a811-652ae558f738",
   "metadata": {},
   "outputs": [
    {
     "name": "stdout",
     "output_type": "stream",
     "text": [
      "1 Tennessee Broadband: 5016 Centennial Blvd, Nashville, TN 37209\n",
      "101Netlink: 101 E Locust St, Watseka, IL 60970\n",
      "123.NET, INC.: 24700 Northwestern Hwy, Southfield, MI 48075\n",
      "24-7 Telcom: 505 S Main St, Menomonie, WI 54751\n",
      "281 Communications Corporation Inc: 201 East Second Street, Alice, TX 78332\n",
      "2PIFI: 301 McCullough Dr #400, Charlotte, NC 28262\n",
      "3-GIS: 350 Market St NE, Decatur, AL 35601\n",
      "360 Communications, Inc.: 360 N Michigan Ave, Chicago, IL 60601\n",
      "3E8 Broadband Solutions, LLC: 1800 Bering Dr, Houston, TX 77057\n",
      "3M: 2501 Hudson Rd, Maplewood, MN 55144\n",
      "4 SIWI LLC: 1000 N West St, Wilmington, DE 19801\n",
      "4-County Fiber, LLC: 9776 US-45 ALT, West Point, MS 39773\n",
      "432 Internet: 432 S Emerson Ave, Greenwood, IN 46143\n",
      "4IP NEXSTREAM: 12303 Airport Way, Broomfield, CO 80021\n",
      "A-Web, Inc.: 101 N Main St, Culver, IN 46511\n",
      "AASBERG ALARM AS: 123 N Main St, Culver, IN 46511\n",
      "ABC Communications: 2088 Paul Bunyan Rd, Susanville, CA 96130\n",
      "Academy Telecom: 123 N Main St, Culver, IN 46511\n",
      "Acadiana Broadband LLC: 101 N Main St, Culver, IN 46511\n",
      "Access Cable Television, Inc.: 101 N Main St, Culver, IN 46511\n",
      "Access Ohio Valley Internet: 101 N Main St, Culver, IN 46511\n",
      "AccessParks, LLC: 101 N Main St, Culver, IN 46511\n",
      "ACE Fiber: 101 N Main St, Culver, IN 46511\n",
      "ACN Communications Services LLC: 1000 Progress Pl, Concord, NC 28025\n",
      "Adak Eagle Enterprises, LLC: 1000 Progress Pl, Concord, NC 28025\n",
      "Adams Cable Equipment: 1000 Progress Pl, Concord, NC 28025\n",
      "Adams CATV, Inc: 1000 Progress Pl, Concord, NC 28025\n",
      "Adams TelSystems Inc.: 1000 Progress Pl, Concord, NC 28025\n",
      "Adcomm MDU Services, LLC: 1000 Progress Pl, Concord, NC 28025\n",
      "Addison County Communications Union District: 1590 VT-30, Cornwall, VT 05753\n",
      "ADRENALINE INTERNET: 1590 VT-30, Cornwall, VT 05753\n",
      "ADTRAN, Inc.: 901 Explorer Blvd NW, Huntsville, AL 35806\n",
      "Advanced Communications Technology, Inc.: 1590 VT-30, Cornwall, VT 05753\n",
      "Advanced Internet: 1590 VT-30, Cornwall, VT 05753\n",
      "Advanced Network Communications, LLC: 1590 VT-30, Cornwall, VT 05753\n",
      "Advanced Satellite Systems, Inc: 1590 VT-30, Cornwall, VT 05753\n",
      "Advanced Stream, Inc.: 1590 VT-30, Cornwall, VT 05753\n",
      "ADVANCED WIRELESS: 1590 VT-30, Cornwall, VT 05753\n",
      "ADVANTENON, INC.: 1590 VT-30, Cornwall, VT 05753\n",
      "AECOM Technical Services: 1590 VT-30, Cornwall, VT 05753\n",
      "Aecon Construction Group Inc.: 20 Carlson Ct #800, Etobicoke, ON M9W 7K6, Canada\n",
      "Aeneas Internet and Telephone: 300 N Cumberland St, Jackson, TN 38301\n",
      "Aeronet Wireless Broadband LLC: 1590 VT-30, Cornwall, VT 05753\n",
      "AFL: 170 Ridgeview Center Dr, Duncan, SC 29334\n",
      "AFNET, LLC: 170 Ridgeview Center Dr, Duncan, SC 29334\n",
      "AIR ADVANTAGE: 170 Ridgeview Center Dr, Duncan, SC 29334\n",
      "Air Advantage, LLC: 465 N Franklin St, Frankenmuth, MI 48734\n",
      "AIR FIBER LLC: 170 Ridgeview Center Dr, Duncan, SC 29334\n",
      "AIR LINK RURAL BROADBAND, LLC: 170 Ridgeview Center Dr, Duncan, SC 29334\n",
      "AIR NET, LLC: 170 Ridgeview Center Dr, Duncan, SC 29334\n",
      "Air Voice Wireless: 2425 Franklin Rd, Bloomfield Hills, MI 48302\n",
      "Airbridge Broadband: 170 Ridgeview Center Dr, Duncan, SC 29334\n",
      "AirCell, Inc.: 1250 N Arlington Heights Rd #500, Itasca, IL 60143\n",
      "AIRE COMMUNICATIONS GROUP, INC.: 1250 N Arlington Heights Rd #500, Itasca, IL 60143\n",
      "AIRFIBER WISP: 1250 N Arlington Heights Rd #500, Itasca, IL 60143\n",
      "Airlink Internet Services, LLC: 1250 N Arlington Heights Rd #500, Itasca, IL 60143\n",
      "AIRONET: 1250 N Arlington Heights Rd #500, Itasca, IL 60143\n",
      "AirVoice Wireless, LLC: 2425 Franklin Rd, Bloomfield Hills, MI 48302\n",
      "AirWay Technologies, Inc.: 1250 N Arlington Heights Rd #500, Itasca, IL 60143\n",
      "AirWorks: 1250 N Arlington Heights Rd #500, Itasca, IL 60143\n",
      "AIS CONSTRUCTION EQUIPMENT CORP - AIS CONSTRUCTION EQUIPMENT: 3600 N Grand River Ave, Lansing, MI 48906\n",
      "AJJ Satellite Services Inc.: 3600 N Grand River Ave, Lansing, MI 48906\n",
      "Alabama Power Company: 600 18th St N, Birmingham, AL 35203\n",
      "Alachua County BoCC: 12 SE 1st St, Gainesville, FL 32601\n",
      "ALAMO BROADBAND INC.: 9200 Broadway St #100, San Antonio, TX 78217\n",
      "ALASKA COMMUNICATIONS: 600 Telephone Ave, Anchorage, AK 99503\n",
      "Alaska Communications Internet, LLC: 600 Telephone Ave, Anchorage, AK 99503\n",
      "Alaska Power & Telephone: 193 Otto St, Port Townsend, WA 98368\n",
      "ALE-NET INC.: 193 Otto St, Port Townsend, WA 98368\n",
      "Algona Municipal Utilities: 104 W Call St, Algona, IA 50511\n",
      "AlignTec Incorporated: 104 W Call St, Algona, IA 50511\n",
      "Alixpartners: 909 3rd Ave, New York, NY 10022\n",
      "ALL POINTS BROADBAND: 20130 Lakeview Center Plaza #400, Ashburn, VA 20147\n",
      "All Points Broadband: 20130 Lakeview Center Plaza #400, Ashburn, VA 20147\n",
      "Allband Multimedia, LLC: 20130 Lakeview Center Plaza #400, Ashburn, VA 20147\n",
      "ALLDATA COMMUNICATIONS CORP.: 20130 Lakeview Center Plaza #400, Ashburn, VA 20147\n",
      "Allen's T.V. Cable Service, Inc.: 20130 Lakeview Center Plaza #400, Ashburn, VA 20147\n",
      "ALOHA BROADBAND: 20130 Lakeview Center Plaza #400, Ashburn, VA 20147\n",
      "Aloha Broadband Inc.: 20130 Lakeview Center Plaza #400, Ashburn, VA 20147\n",
      "Alpha Networks Corp: 20130 Lakeview Center Plaza #400, Ashburn, VA 20147\n",
      "ALPHANET CORP.: 20130 Lakeview Center Plaza #400, Ashburn, VA 20147\n",
      "ALSAT WIRELESS: 20130 Lakeview Center Plaza #400, Ashburn, VA 20147\n",
      "Alta Municipal Utilities: 223 S Main St, Alta, IA 51002\n",
      "Altafiber: 223 S Main St, Alta, IA 51002\n",
      "Altamaha Electric Membership Corp.: 611 W Pine St, Jesup, GA 31545\n",
      "Altamaha EMC: 611 W Pine St, Jesup, GA 31545\n",
      "Alternative Internet Resources 'AIR': 611 W Pine St, Jesup, GA 31545\n",
      "Altice USA: 1 Court Square W, Long Island City, NY 11101\n",
      "Altitude ISP: 1 Court Square W, Long Island City, NY 11101\n",
      "Alyrica Networks Inc: 521 N 19th St, Philomath, OR 97370\n",
      "ALYRICA NETWORKS, INC: 521 N 19th St, Philomath, OR 97370\n",
      "AMARILLO WIRELESS: 521 N 19th St, Philomath, OR 97370\n",
      "American Assistance: 521 N 19th St, Philomath, OR 97370\n",
      "AMERICAN BROADBAND: 521 N 19th St, Philomath, OR 97370\n",
      "American Broadband & Telecommunications: 521 N 19th St, Philomath, OR 97370\n",
      "American Fiber Inc.: 521 N 19th St, Philomath, OR 97370\n",
      "American Products, LLC: 521 N 19th St, Philomath, OR 97370\n",
      "American Samoa Telecommunications Authority: 521 N 19th St, Philomath, OR 97370\n",
      "AMF Enterprises, LLC: 521 N 19th St, Philomath, OR 97370\n",
      "AmigoNet: 521 N 19th St, Philomath, OR 97370\n",
      "AMPLEX: 521 N 19th St, Philomath, OR 97370\n",
      "Amplex Internet: 22690 Pemberville Rd, Luckey, OH 43443\n",
      "AMT Advanced Media Technologies: 22690 Pemberville Rd, Luckey, OH 43443\n",
      "ANDALUSIA COMMUNITY INTERNET: 22690 Pemberville Rd, Luckey, OH 43443\n",
      "Andrena: 22690 Pemberville Rd, Luckey, OH 43443\n",
      "Angeles Enterprises Corp.: 22690 Pemberville Rd, Luckey, OH 43443\n",
      "Another Corporate ISP: 22690 Pemberville Rd, Luckey, OH 43443\n",
      "Anthem Broadband of Nevada: 22690 Pemberville Rd, Luckey, OH 43443\n",
      "Antietam Cable Television, LLC: 1000 Willow Cir, Hagerstown, MD 21740\n",
      "ANTS Technology, Inc.: 1000 Willow Cir, Hagerstown, MD 21740\n",
      "Aozora Devices, Inc.: 1000 Willow Cir, Hagerstown, MD 21740\n",
      "APPS COMMUNICATIONS: 1000 Willow Cir, Hagerstown, MD 21740\n",
      "Aptitude Internet: 1000 Willow Cir, Hagerstown, MD 21740\n",
      "Aptitude Internet, LLC: 1000 Willow Cir, Hagerstown, MD 21740\n",
      "ARBUCKLE COMMUNICATIONS, INC.: 1000 Willow Cir, Hagerstown, MD 21740\n",
      "ARISTOTLE INC.: 1000 Willow Cir, Hagerstown, MD 21740\n",
      "Aristotle Unified Communications: 401 W Capitol Ave #700, Little Rock, AR 72201\n",
      "Arizona Network LLC: 401 W Capitol Ave #700, Little Rock, AR 72201\n",
      "Arkansas Rural Internet Services, LLC: 401 W Capitol Ave #700, Little Rock, AR 72201\n",
      "Armstrong Telecommunications, Inc.: 1 Armstrong Pl, Butler, PA 16001\n",
      "AROOSTOOK TECHNOLOGIES: 1 Armstrong Pl, Butler, PA 16001\n",
      "ARTIC FIBER OPTIC LLC: 1 Armstrong Pl, Butler, PA 16001\n",
      "Arvig Enterprises, Inc.: 150 2nd St SW, Perham, MN 56573\n",
      "Ashe County Cable TV: 150 2nd St SW, Perham, MN 56573\n",
      "ASI NETWORKS: 150 2nd St SW, Perham, MN 56573\n",
      "ASK Telemarketing, Inc.: 150 2nd St SW, Perham, MN 56573\n",
      "Aspire Networks 1, LLC: 150 2nd St SW, Perham, MN 56573\n",
      "Assist Wireless: 150 2nd St SW, Perham, MN 56573\n",
      "Assurance Wireless: 150 2nd St SW, Perham, MN 56573\n",
      "AST Telecom, LLC: 150 2nd St SW, Perham, MN 56573\n",
      "ASTAC: 4300 B St #501, Anchorage, AK 99503\n",
      "aSTEAM Village Inc.: 4300 B St #501, Anchorage, AK 99503\n",
      "Astound Broadband powered by enTouch: 4300 B St #501, Anchorage, AK 99503\n",
      "Astound Broadband powered by Grande: 4300 B St #501, Anchorage, AK 99503\n",
      "Astound Broadband powered by RCN: 4300 B St #501, Anchorage, AK 99503\n",
      "Astound Broadband powered by Wave: 4300 B St #501, Anchorage, AK 99503\n",
      "At Link services, LLC: 4300 B St #501, Anchorage, AK 99503\n",
      "AT&T: 208 S Akard St, Dallas, TX 75202\n",
      "AT&T Corp: 208 S Akard St, Dallas, TX 75202\n",
      "AT&T Mobility: 208 S Akard St, Dallas, TX 75202\n",
      "AT&T Mobility LLC: 208 S Akard St, Dallas, TX 75202\n",
      "ATC COMMUNICATIONS: 208 S Akard St, Dallas, TX 75202\n",
      "Atherton Fiber LLC: 208 S Akard St, Dallas, TX 75202\n",
      "Atkore, Inc.: 16100 S Lathrop Ave, Harvey, IL 60426\n",
      "Atlantic Mobile US LLC: 16100 S Lathrop Ave, Harvey, IL 60426\n",
      "Atlantic Telephone Membership: 16100 S Lathrop Ave, Harvey, IL 60426\n",
      "ATLAS NETWORKS: 16100 S Lathrop Ave, Harvey, IL 60426\n",
      "Atlink Services, LLC: 16100 S Lathrop Ave, Harvey, IL 60426\n",
      "AU WIRELESS: 16100 S Lathrop Ave, Harvey, IL 60426\n",
      "Auburn Essential Services: 16100 S Lathrop Ave, Harvey, IL 60426\n",
      "Audeamus: 16100 S Lathrop Ave, Harvey, IL 60426\n",
      "Automation Exchange Pty Ltd: 16100 S Lathrop Ave, Harvey, IL 60426\n",
      "AWC, LLC: 16100 S Lathrop Ave, Harvey, IL 60426\n",
      "AWI NETWORKS: 16100 S Lathrop Ave, Harvey, IL 60426\n",
      "AXESS HIGH SPEED: 16100 S Lathrop Ave, Harvey, IL 60426\n",
      "AZ AIRNET: 16100 S Lathrop Ave, Harvey, IL 60426\n",
      "B2X Online, Inc.: 16100 S Lathrop Ave, Harvey, IL 60426\n",
      "B2X ONLINE, INC.: 16100 S Lathrop Ave, Harvey, IL 60426\n",
      "Babcock Enterprises LLC: 16100 S Lathrop Ave, Harvey, IL 60426\n",
      "Back 2 Roots LLC: 16100 S Lathrop Ave, Harvey, IL 60426\n",
      "BACK 40 WIRELESS: 16100 S Lathrop Ave, Harvey, IL 60426\n",
      "Backbone Fiber Systems LLC: 16100 S Lathrop Ave, Harvey, IL 60426\n",
      "Backcountry Broadband: 16100 S Lathrop Ave, Harvey, IL 60426\n",
      "Backroads Broadband: 16100 S Lathrop Ave, Harvey, IL 60426\n",
      "BALATIZE BROADBAND SERVICES LLC: 16100 S Lathrop Ave, Harvey, IL 60426\n",
      "Balch & Bingham LLP: 16100 S Lathrop Ave, Harvey, IL 60426\n",
      "BalsamWest: 16100 S Lathrop Ave, Harvey, IL 60426\n"
     ]
    }
   ],
   "source": [
    "print(response_broadband_1.choices[0].message.content)"
   ]
  },
  {
   "cell_type": "code",
   "execution_count": null,
   "id": "cbe0dd1c-aac2-4655-9d32-2b532e2e6e8c",
   "metadata": {},
   "outputs": [],
   "source": []
  }
 ],
 "metadata": {
  "kernelspec": {
   "display_name": "Python 3 (ipykernel)",
   "language": "python",
   "name": "python3"
  },
  "language_info": {
   "codemirror_mode": {
    "name": "ipython",
    "version": 3
   },
   "file_extension": ".py",
   "mimetype": "text/x-python",
   "name": "python",
   "nbconvert_exporter": "python",
   "pygments_lexer": "ipython3",
   "version": "3.11.5"
  }
 },
 "nbformat": 4,
 "nbformat_minor": 5
}
